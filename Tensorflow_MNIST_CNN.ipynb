{
 "cells": [
  {
   "cell_type": "markdown",
   "metadata": {},
   "source": [
    "# TF跑CNN原則：請把矩陣大小和格式輸入輸出對清楚"
   ]
  },
  {
   "cell_type": "code",
   "execution_count": 10,
   "metadata": {
    "collapsed": false
   },
   "outputs": [
    {
     "name": "stdout",
     "output_type": "stream",
     "text": [
      "Extracting MNIST_data/train-images-idx3-ubyte.gz\n",
      "Extracting MNIST_data/train-labels-idx1-ubyte.gz\n",
      "Extracting MNIST_data/t10k-images-idx3-ubyte.gz\n",
      "Extracting MNIST_data/t10k-labels-idx1-ubyte.gz\n",
      "Train Epoch: 01 Loss= 1.772440672  Accuracy= 0.726 Epoch time= 195.74426317214966\n",
      "Train Epoch: 02 Loss= 1.682628512  Accuracy= 0.7956 Epoch time= 366.751825094223\n",
      "Train Epoch: 03 Loss= 1.653133631  Accuracy= 0.8208 Epoch time= 528.5873410701752\n",
      "Train Epoch: 04 Loss= 1.635702729  Accuracy= 0.8328 Epoch time= 706.1330091953278\n",
      "Train Epoch: 05 Loss= 1.545454741  Accuracy= 0.9282 Epoch time= 896.8710191249847\n",
      "Train Epoch: 06 Loss= 1.532291651  Accuracy= 0.9358 Epoch time= 1062.438371181488\n",
      "Train Epoch: 07 Loss= 1.523599267  Accuracy= 0.9442 Epoch time= 1223.706612110138\n",
      "Train Epoch: 08 Loss= 1.516631484  Accuracy= 0.9524 Epoch time= 1383.760931968689\n",
      "Train Epoch: 09 Loss= 1.511740208  Accuracy= 0.955 Epoch time= 1544.0960071086884\n",
      "Train Epoch: 10 Loss= 1.505177498  Accuracy= 0.9616 Epoch time= 1997.9793419837952\n",
      "Train Finished takes: 1998.012521982193\n"
     ]
    }
   ],
   "source": [
    "import tensorflow as tf\n",
    "import tensorflow.examples.tutorials.mnist.input_data as input_data\n",
    "mnist = input_data.read_data_sets(\"MNIST_data/\", one_hot=True)\n",
    "\n",
    "def weight(shape):\n",
    "    return tf.Variable(tf.truncated_normal(shape, stddev=0.1), name ='W')\n",
    "\n",
    "def bias(shape):\n",
    "    return tf.Variable(tf.constant(0.1, shape=shape), name ='b')\n",
    "\n",
    "def conv2d(x, W): #由strides第2,3維度決定filter一次往x和y方向走動多少\n",
    "    return tf.nn.conv2d(x, W, strides=[1,1,1,1],padding='SAME')\n",
    "\n",
    "def max_pool_2x2(x):\n",
    "    return tf.nn.max_pool(x, ksize=[1,2,2,1], #濾鏡大小 \n",
    "                          strides=[1,2,2,1], #2x2中取最大\n",
    "                          padding='SAME')\n",
    "\n",
    "#輸入層\n",
    "with tf.name_scope('Input_Layer'):\n",
    "    x = tf.placeholder(\"float\",shape=[None, 784], name=\"X\")    \n",
    "    x_image = tf.reshape(x, [-1, 28, 28, 1]) #為了符合卷基第一層的格式，第四個維度是RGB:3，黑白:1\n",
    "\n",
    "#卷積1\n",
    "with tf.name_scope('C1_Conv'):\n",
    "    W1 = weight([5,5,1,16])\n",
    "    b1 = bias([16])\n",
    "    C1_Conv = tf.nn.relu( conv2d(x_image, W1) + b1 )\n",
    "with tf.name_scope('C1_Pool'):\n",
    "    C1_Pool = max_pool_2x2(C1_Conv)\n",
    "    \n",
    "#卷積2\n",
    "with tf.name_scope('C2_Conv'):\n",
    "    W2 = weight([5,5,16,36])\n",
    "    b2 = bias([36])\n",
    "    C2_Conv = tf.nn.relu( conv2d(C1_Pool, W2) + b2 )\n",
    "with tf.name_scope('C2_Pool'):\n",
    "    C2_Pool = max_pool_2x2(C2_Conv)\n",
    "    \n",
    "\n",
    "#Fully connected layer\n",
    "with tf.name_scope('D_Flat'): #壓成平的\n",
    "    D_Flat = tf.reshape(C2_Pool, [-1, 1764])\n",
    "    \n",
    "with tf.name_scope('D_Hidden_Layer'):\n",
    "    W3= weight([1764, 32])\n",
    "    b3= bias([32])\n",
    "    D_Hidden = tf.nn.relu( tf.matmul(D_Flat, W3) + b3 )\n",
    "    D_Hidden_Dropout= tf.nn.dropout(D_Hidden, keep_prob=0.8)\n",
    "    \n",
    "with tf.name_scope('Output_Layer'):\n",
    "    W4 = weight([32,10])\n",
    "    b4 = bias([10])\n",
    "    y_predict= tf.nn.softmax( tf.matmul(D_Hidden_Dropout, W4) + b4 )\n",
    "    \n",
    "\n",
    "#設置optimizer\n",
    "with tf.name_scope(\"optimizer\"):\n",
    "    \n",
    "    y_label = tf.placeholder(\"float\", shape=[None, 10], name=\"y_label\") #在這裡才引入標準解答y_label\n",
    "    \n",
    "    loss_function = tf.reduce_mean(\n",
    "                      tf.nn.softmax_cross_entropy_with_logits\n",
    "                         (logits=y_predict , \n",
    "                          labels=y_label))\n",
    "    \n",
    "    optimizer = tf.train.AdamOptimizer(learning_rate=0.0001).minimize(loss_function)\n",
    "    \n",
    "#評估模型\n",
    "with tf.name_scope(\"evaluate_model\"):\n",
    "    correct_prediction = tf.equal(tf.argmax(y_predict, 1),\n",
    "                                  tf.argmax(y_label, 1))\n",
    "    accuracy = tf.reduce_mean(tf.cast(correct_prediction, \"float\"))\n",
    "    \n",
    "#訓練模型\n",
    "trainEpochs = 10\n",
    "batchSize = 100\n",
    "totalBatchs = int(mnist.train.num_examples/batchSize)\n",
    "\n",
    "epoch_list=[]\n",
    "accuracy_list=[]\n",
    "loss_list=[]\n",
    "\n",
    "from time import time\n",
    "startTime=time()\n",
    "sess = tf.Session()\n",
    "sess.run(tf.global_variables_initializer())\n",
    "\n",
    "for epoch in range(trainEpochs):\n",
    "\n",
    "    \n",
    "    for i in range(totalBatchs):\n",
    "        batch_x, batch_y = mnist.train.next_batch(batchSize)\n",
    "        sess.run(optimizer,feed_dict={x: batch_x,\n",
    "                                      y_label: batch_y})\n",
    "        \n",
    "    \n",
    "    loss,acc = sess.run([loss_function,accuracy],\n",
    "                        feed_dict={x: mnist.validation.images, \n",
    "                                   y_label: mnist.validation.labels})\n",
    "\n",
    "    epoch_list.append(epoch)\n",
    "    loss_list.append(loss)\n",
    "    accuracy_list.append(acc)    \n",
    "    \n",
    "    print(\"Train Epoch:\", '%02d' % (epoch+1), \\\n",
    "          \"Loss=\",\"{:.9f}\".format(loss),\" Accuracy=\",acc, 'Epoch time=',time()-startTime)\n",
    "    \n",
    "duration = time()-startTime\n",
    "print(\"Train Finished takes:\",duration)     "
   ]
  },
  {
   "cell_type": "markdown",
   "metadata": {},
   "source": [
    "## loss, accu視覺化 "
   ]
  },
  {
   "cell_type": "code",
   "execution_count": 12,
   "metadata": {
    "collapsed": false
   },
   "outputs": [
    {
     "data": {
      "image/png": "[encoded data removed]",
      "text/plain": [
       "<matplotlib.figure.Figure at 0x116ea9d68>"
      ]
     },
     "metadata": {},
     "output_type": "display_data"
    }
   ],
   "source": [
    "import matplotlib.pyplot as plt\n",
    "fig = plt.gcf()\n",
    "fig.set_size_inches(4,2)\n",
    "plt.plot(epoch_list, loss_list, label = 'loss')\n",
    "plt.ylabel('loss')\n",
    "plt.xlabel('epoch')\n",
    "plt.legend(['loss'], loc='upper left')\n",
    "plt.show()"
   ]
  },
  {
   "cell_type": "code",
   "execution_count": 13,
   "metadata": {
    "collapsed": false
   },
   "outputs": [
    {
     "data": {
      "image/png": "[encoded data removed]",
      "text/plain": [
       "<matplotlib.figure.Figure at 0x116ea97f0>"
      ]
     },
     "metadata": {},
     "output_type": "display_data"
    }
   ],
   "source": [
    "import matplotlib.pyplot as plt\n",
    "fig = plt.gcf()\n",
    "fig.set_size_inches(4,2)\n",
    "plt.plot(epoch_list, accuracy_list, label = 'accuracy')\n",
    "plt.ylabel('accuracy')\n",
    "plt.xlabel('epoch')\n",
    "plt.legend(['loss'], loc='upper left')\n",
    "plt.show()"
   ]
  },
  {
   "cell_type": "code",
   "execution_count": 14,
   "metadata": {
    "collapsed": false
   },
   "outputs": [
    {
     "name": "stdout",
     "output_type": "stream",
     "text": [
      "Accuracy: 0.956\n"
     ]
    }
   ],
   "source": [
    "print(\"Accuracy:\", \n",
    "      sess.run(accuracy,feed_dict={x: mnist.test.images,\n",
    "                                   y_label: mnist.test.labels}))"
   ]
  },
  {
   "cell_type": "markdown",
   "metadata": {},
   "source": [
    "# 實際預測"
   ]
  },
  {
   "cell_type": "code",
   "execution_count": 15,
   "metadata": {
    "collapsed": true
   },
   "outputs": [],
   "source": [
    "y_predict = sess.run(y_predict, \n",
    "                     feed_dict={x: mnist.test.images[:5000]})"
   ]
  },
  {
   "cell_type": "code",
   "execution_count": 16,
   "metadata": {
    "collapsed": true
   },
   "outputs": [],
   "source": [
    "prediction_result=sess.run(tf.argmax(y_predict,1),\n",
    "                           feed_dict={x: mnist.test.images ,\n",
    "                                      y_label: mnist.test.labels})"
   ]
  },
  {
   "cell_type": "code",
   "execution_count": 17,
   "metadata": {
    "collapsed": false
   },
   "outputs": [
    {
     "data": {
      "image/png": "[encoded data removed]",
      "text/plain": [
       "<matplotlib.figure.Figure at 0x11a1de278>"
      ]
     },
     "metadata": {},
     "output_type": "display_data"
    }
   ],
   "source": [
    "import numpy as np\n",
    "def show_images_labels_predict(images,labels,prediction_result):\n",
    "    fig = plt.gcf()\n",
    "    fig.set_size_inches(8, 10)\n",
    "    for i in range(0, 10):\n",
    "        ax=plt.subplot(5,5, 1+i)\n",
    "        ax.imshow(np.reshape(images[i],(28, 28)), cmap='binary')\n",
    "        ax.set_title(\"label=\" +str(np.argmax(labels[i]))+\n",
    "                     \",predict=\"+str(prediction_result[i])\n",
    "                     ,fontsize=9) \n",
    "    plt.show()\n",
    "\n",
    "show_images_labels_predict(mnist.test.images,mnist.test.labels,prediction_result)"
   ]
  },
  {
   "cell_type": "markdown",
   "metadata": {},
   "source": [
    "找尋錯誤的配對"
   ]
  },
  {
   "cell_type": "code",
   "execution_count": 18,
   "metadata": {
    "collapsed": false
   },
   "outputs": [
    {
     "name": "stdout",
     "output_type": "stream",
     "text": [
      "i=33   label= 4 predict= 6\n",
      "i=119   label= 2 predict= 9\n",
      "i=121   label= 4 predict= 9\n",
      "i=193   label= 9 predict= 3\n",
      "i=259   label= 6 predict= 0\n",
      "i=290   label= 8 predict= 4\n",
      "i=317   label= 5 predict= 8\n",
      "i=320   label= 9 predict= 1\n",
      "i=321   label= 2 predict= 7\n",
      "i=340   label= 5 predict= 3\n",
      "i=349   label= 3 predict= 7\n",
      "i=353   label= 6 predict= 0\n",
      "i=362   label= 2 predict= 7\n",
      "i=435   label= 8 predict= 7\n",
      "i=444   label= 2 predict= 8\n",
      "i=445   label= 6 predict= 0\n",
      "i=448   label= 9 predict= 8\n",
      "i=464   label= 3 predict= 7\n",
      "i=469   label= 5 predict= 8\n",
      "i=479   label= 9 predict= 3\n",
      "i=495   label= 8 predict= 2\n"
     ]
    }
   ],
   "source": [
    "for i in range(500):\n",
    "    if prediction_result[i]!=np.argmax(mnist.test.labels[i]):\n",
    "        print(\"i=\"+str(i)+\n",
    "              \"   label=\",np.argmax(mnist.test.labels[i]),\n",
    "              \"predict=\",prediction_result[i])"
   ]
  },
  {
   "cell_type": "markdown",
   "metadata": {},
   "source": [
    "# 跑了這麼久，儲存model"
   ]
  },
  {
   "cell_type": "code",
   "execution_count": 19,
   "metadata": {
    "collapsed": true
   },
   "outputs": [],
   "source": [
    "saver = tf.train.Saver()"
   ]
  },
  {
   "cell_type": "code",
   "execution_count": 20,
   "metadata": {
    "collapsed": false
   },
   "outputs": [
    {
     "name": "stdout",
     "output_type": "stream",
     "text": [
      "Model saved in file: saveModel/CNN_model1\n"
     ]
    }
   ],
   "source": [
    "save_path = saver.save(sess, \"saveModel/CNN_model1\")\n",
    "print(\"Model saved in file: %s\" % save_path)"
   ]
  },
  {
   "cell_type": "code",
   "execution_count": 21,
   "metadata": {
    "collapsed": true
   },
   "outputs": [],
   "source": [
    "merged = tf.summary.merge_all()\n",
    "train_writer = tf.summary.FileWriter('log/CNN',sess.graph)"
   ]
  },
  {
   "cell_type": "markdown",
   "metadata": {},
   "source": [
    "# 畫tensorboard"
   ]
  },
  {
   "cell_type": "code",
   "execution_count": null,
   "metadata": {
    "collapsed": true
   },
   "outputs": [],
   "source": []
  }
 ],
 "metadata": {
  "anaconda-cloud": {},
  "kernelspec": {
   "display_name": "Python [conda root]",
   "language": "python",
   "name": "conda-root-py"
  },
  "language_info": {
   "codemirror_mode": {
    "name": "ipython",
    "version": 3
   },
   "file_extension": ".py",
   "mimetype": "text/x-python",
   "name": "python",
   "nbconvert_exporter": "python",
   "pygments_lexer": "ipython3",
   "version": "3.5.2"
  }
 },
 "nbformat": 4,
 "nbformat_minor": 1
}
