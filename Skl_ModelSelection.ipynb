{
 "cells": [
  {
   "cell_type": "markdown",
   "metadata": {},
   "source": [
    "# Loss function"
   ]
  },
  {
   "cell_type": "code",
   "execution_count": 1,
   "metadata": {
    "collapsed": false
   },
   "outputs": [
    {
     "name": "stdout",
     "output_type": "stream",
     "text": [
      "zero_one_loss<fraction>: 0.6\n",
      "zero_one_loss<num>: 6\n",
      "log_loss<average>: 0.228393003637\n",
      "log_loss<total>: 1.37035802182\n"
     ]
    }
   ],
   "source": [
    "from sklearn.metrics import zero_one_loss,log_loss\n",
    "\n",
    "def test_zero_one_loss():\n",
    "    '''\n",
    "    测试 0-1 损失函数\n",
    "    :return: None\n",
    "    '''\n",
    "    y_true=[1,1,1,1,1,0,0,0,0,0]\n",
    "    y_pred=[0,0,0,1,1,1,1,1,0,0]\n",
    "    print(\"zero_one_loss<fraction>:\",zero_one_loss(y_true,y_pred,normalize=True))\n",
    "    print(\"zero_one_loss<num>:\",zero_one_loss(y_true,y_pred,normalize=False))\n",
    "\n",
    "def test_log_loss():\n",
    "    '''\n",
    "    测试对数损失函数\n",
    "    :return:  None\n",
    "    '''\n",
    "    y_true=[1, 1, 1, 0, 0, 0]\n",
    "    y_pred=[[0.1, 0.9],\n",
    "            [0.2, 0.8],\n",
    "            [0.3, 0.7],\n",
    "            [0.7, 0.3],\n",
    "            [0.8, 0.2],\n",
    "            [0.9, 0.1]]\n",
    "    print(\"log_loss<average>:\",log_loss(y_true,y_pred,normalize=True))\n",
    "    print(\"log_loss<total>:\",log_loss(y_true,y_pred,normalize=False))\n",
    "\n",
    "if __name__==\"__main__\":\n",
    "    test_zero_one_loss() # 调用 test_zero_one_loss\n",
    "    test_log_loss() # 调用 test_log_loss"
   ]
  },
  {
   "cell_type": "markdown",
   "metadata": {},
   "source": [
    "# Data split: Stratified可以避免某些不同label樣本數差異過大的偏誤"
   ]
  },
  {
   "cell_type": "markdown",
   "metadata": {},
   "source": [
    "## train_test_split：會自己shuffle"
   ]
  },
  {
   "cell_type": "code",
   "execution_count": 10,
   "metadata": {
    "collapsed": false
   },
   "outputs": [
    {
     "name": "stdout",
     "output_type": "stream",
     "text": [
      "X_train= [[31, 32, 33, 34], [1, 2, 3, 4], [51, 52, 53, 54], [41, 42, 43, 44]]\n",
      "X_test= [[61, 62, 63, 64], [21, 22, 23, 24], [11, 12, 13, 14], [71, 72, 73, 74]]\n",
      "y_train= [0, 1, 1, 1]\n",
      "y_test= [0, 0, 1, 0]\n",
      "Stratify:X_train= [[41, 42, 43, 44], [61, 62, 63, 64], [1, 2, 3, 4], [71, 72, 73, 74]]\n",
      "Stratify:X_test= [[21, 22, 23, 24], [31, 32, 33, 34], [11, 12, 13, 14], [51, 52, 53, 54]]\n",
      "Stratify:y_train= [1, 0, 1, 0]\n",
      "Stratify:y_test= [0, 0, 1, 1]\n"
     ]
    }
   ],
   "source": [
    "from sklearn.model_selection import train_test_split, KFold, StratifiedKFold, LeaveOneOut, cross_val_score\n",
    "import numpy as np\n",
    "\n",
    "def test_train_test_split():\n",
    "    '''\n",
    "    测试  train_test_split 的用法\n",
    "    :return:  None\n",
    "    '''\n",
    "    X=[[1,2,3,4],\n",
    "       [11,12,13,14],\n",
    "       [21,22,23,24],\n",
    "       [31,32,33,34],\n",
    "       [41,42,43,44],\n",
    "       [51,52,53,54],\n",
    "       [61,62,63,64],\n",
    "       [71,72,73,74]]\n",
    "    y=[1,1,0,0,1,1,0,0]\n",
    "\n",
    "    X_train, X_test, y_train, y_test = train_test_split(X, y,test_size=0.4, \n",
    "                                            random_state=0) # 切分，测试集大小为原始数据集大小的 40%\n",
    "    print(\"X_train=\",X_train)\n",
    "    print(\"X_test=\",X_test)\n",
    "    print(\"y_train=\",y_train)\n",
    "    print(\"y_test=\",y_test)\n",
    "    \n",
    "    X_train, X_test, y_train, y_test = train_test_split(X, y,test_size=0.4,\n",
    "                                            random_state=0,stratify=y) # 分层采样切分，测试集大小为原始数据集大小的 40%\n",
    "    print(\"Stratify:X_train=\",X_train)\n",
    "    print(\"Stratify:X_test=\",X_test)\n",
    "    print(\"Stratify:y_train=\",y_train)\n",
    "    print(\"Stratify:y_test=\",y_test)\n",
    "\n",
    "if __name__=='__main__':\n",
    "    test_train_test_split() # 调用 test_train_test_split"
   ]
  },
  {
   "cell_type": "markdown",
   "metadata": {},
   "source": [
    "## KFold: K等分"
   ]
  },
  {
   "cell_type": "code",
   "execution_count": 11,
   "metadata": {
    "collapsed": false
   },
   "outputs": [
    {
     "name": "stdout",
     "output_type": "stream",
     "text": [
      "Train Index: [3 4 5 6 7 8]\n",
      "Test Index: [0 1 2]\n",
      "X_train: [[31 32 33 34]\n",
      " [41 42 43 44]\n",
      " [51 52 53 54]\n",
      " [61 62 63 64]\n",
      " [71 72 73 74]\n",
      " [81 82 83 84]]\n",
      "X_test: [[ 1  2  3  4]\n",
      " [11 12 13 14]\n",
      " [21 22 23 24]]\n",
      "\n",
      "Train Index: [0 1 2 6 7 8]\n",
      "Test Index: [3 4 5]\n",
      "X_train: [[ 1  2  3  4]\n",
      " [11 12 13 14]\n",
      " [21 22 23 24]\n",
      " [61 62 63 64]\n",
      " [71 72 73 74]\n",
      " [81 82 83 84]]\n",
      "X_test: [[31 32 33 34]\n",
      " [41 42 43 44]\n",
      " [51 52 53 54]]\n",
      "\n",
      "Train Index: [0 1 2 3 4 5]\n",
      "Test Index: [6 7 8]\n",
      "X_train: [[ 1  2  3  4]\n",
      " [11 12 13 14]\n",
      " [21 22 23 24]\n",
      " [31 32 33 34]\n",
      " [41 42 43 44]\n",
      " [51 52 53 54]]\n",
      "X_test: [[61 62 63 64]\n",
      " [71 72 73 74]\n",
      " [81 82 83 84]]\n",
      "\n",
      "Shuffled Train Index: [0 3 4 5 6 8]\n",
      "Shuffled Test Index: [1 2 7]\n",
      "Shuffled X_train: [[ 1  2  3  4]\n",
      " [31 32 33 34]\n",
      " [41 42 43 44]\n",
      " [51 52 53 54]\n",
      " [61 62 63 64]\n",
      " [81 82 83 84]]\n",
      "Shuffled X_test: [[11 12 13 14]\n",
      " [21 22 23 24]\n",
      " [71 72 73 74]]\n",
      "\n",
      "Shuffled Train Index: [0 1 2 3 5 7]\n",
      "Shuffled Test Index: [4 6 8]\n",
      "Shuffled X_train: [[ 1  2  3  4]\n",
      " [11 12 13 14]\n",
      " [21 22 23 24]\n",
      " [31 32 33 34]\n",
      " [51 52 53 54]\n",
      " [71 72 73 74]]\n",
      "Shuffled X_test: [[41 42 43 44]\n",
      " [61 62 63 64]\n",
      " [81 82 83 84]]\n",
      "\n",
      "Shuffled Train Index: [1 2 4 6 7 8]\n",
      "Shuffled Test Index: [0 3 5]\n",
      "Shuffled X_train: [[11 12 13 14]\n",
      " [21 22 23 24]\n",
      " [41 42 43 44]\n",
      " [61 62 63 64]\n",
      " [71 72 73 74]\n",
      " [81 82 83 84]]\n",
      "Shuffled X_test: [[ 1  2  3  4]\n",
      " [31 32 33 34]\n",
      " [51 52 53 54]]\n",
      "\n",
      "Train Index: [2 3 4 5 6 7]\n",
      "Test Index: [0 1]\n",
      "y_train: [0 0 1 1 0 0]\n",
      "y_test: [1 1]\n",
      "\n",
      "Train Index: [0 1 4 5 6 7]\n",
      "Test Index: [2 3]\n",
      "y_train: [1 1 1 1 0 0]\n",
      "y_test: [0 0]\n",
      "\n",
      "Train Index: [0 1 2 3 6 7]\n",
      "Test Index: [4 5]\n",
      "y_train: [1 1 0 0 0 0]\n",
      "y_test: [1 1]\n",
      "\n",
      "Train Index: [0 1 2 3 4 5]\n",
      "Test Index: [6 7]\n",
      "y_train: [1 1 0 0 1 1]\n",
      "y_test: [0 0]\n",
      "\n",
      "Stratified Train Index: [1 3 4 5 6 7]\n",
      "Stratified Test Index: [0 2]\n",
      "Stratified y_train: [1 0 1 1 0 0]\n",
      "Stratified y_test: [1 0]\n",
      "\n",
      "Stratified Train Index: [0 2 4 5 6 7]\n",
      "Stratified Test Index: [1 3]\n",
      "Stratified y_train: [1 0 1 1 0 0]\n",
      "Stratified y_test: [1 0]\n",
      "\n",
      "Stratified Train Index: [0 1 2 3 5 7]\n",
      "Stratified Test Index: [4 6]\n",
      "Stratified y_train: [1 1 0 0 1 0]\n",
      "Stratified y_test: [1 0]\n",
      "\n",
      "Stratified Train Index: [0 1 2 3 4 6]\n",
      "Stratified Test Index: [5 7]\n",
      "Stratified y_train: [1 1 0 0 1 0]\n",
      "Stratified y_test: [1 0]\n",
      "\n"
     ]
    }
   ],
   "source": [
    "from sklearn.model_selection import train_test_split, KFold, StratifiedKFold, LeaveOneOut, cross_val_score\n",
    "import numpy as np\n",
    "\n",
    "\n",
    "def test_KFold():\n",
    "    '''\n",
    "    测试  KFold 的用法\n",
    "    :return: None\n",
    "    '''\n",
    "    X=np.array([[1,2,3,4],\n",
    "       [11,12,13,14],\n",
    "       [21,22,23,24],\n",
    "       [31,32,33,34],\n",
    "       [41,42,43,44],\n",
    "       [51,52,53,54],\n",
    "       [61,62,63,64],\n",
    "       [71,72,73,74],\n",
    "       [81,82,83,84]])\n",
    "    y=np.array([1,1,0,0,1,1,0,0,1])\n",
    "\n",
    "    folder = KFold(n_splits=3,random_state=0,shuffle=False) # 切分之前不混洗数据集，按照原本的順序\n",
    "    for train_index,test_index in folder.split(X,y):\n",
    "        print(\"Train Index:\",train_index)\n",
    "        print(\"Test Index:\",test_index)\n",
    "        print(\"X_train:\",X[train_index])\n",
    "        print(\"X_test:\",X[test_index])\n",
    "        print(\"\")\n",
    "\n",
    "    shuffle_folder = KFold(n_splits=3,random_state=0,shuffle=True) # 切分之前混洗数据集\n",
    "    for train_index,test_index in shuffle_folder.split(X,y):\n",
    "        print(\"Shuffled Train Index:\",train_index)\n",
    "        print(\"Shuffled Test Index:\",test_index)\n",
    "        print(\"Shuffled X_train:\",X[train_index])\n",
    "        print(\"Shuffled X_test:\",X[test_index])\n",
    "        print(\"\")\n",
    "            \n",
    "def test_StratifiedKFold():\n",
    "    '''\n",
    "    测试  StratifiedKFold 的用法\n",
    "    :return: None\n",
    "    '''\n",
    "    X=np.array([[1,2,3,4],\n",
    "       [11,12,13,14],\n",
    "       [21,22,23,24],\n",
    "       [31,32,33,34],\n",
    "       [41,42,43,44],\n",
    "       [51,52,53,54],\n",
    "       [61,62,63,64],\n",
    "       [71,72,73,74]])\n",
    "\n",
    "    y=np.array([1,1,0,0,1,1,0,0])\n",
    "\n",
    "    folder=KFold(n_splits=4,random_state=0,shuffle=False)\n",
    "    stratified_folder=StratifiedKFold(n_splits=4,random_state=0,shuffle=False)\n",
    "    \n",
    "    for train_index,test_index in folder.split(X,y):\n",
    "        print(\"Train Index:\",train_index)\n",
    "        print(\"Test Index:\",test_index)\n",
    "        print(\"y_train:\",y[train_index])\n",
    "        print(\"y_test:\",y[test_index])\n",
    "        print(\"\")\n",
    "\n",
    "    for train_index,test_index in stratified_folder.split(X,y):\n",
    "        print(\"Stratified Train Index:\",train_index)\n",
    "        print(\"Stratified Test Index:\",test_index)\n",
    "        print(\"Stratified y_train:\",y[train_index])\n",
    "        print(\"Stratified y_test:\",y[test_index])\n",
    "        print(\"\")\n",
    "\n",
    "if __name__=='__main__':\n",
    "    test_KFold()# 调用 test_KFold\n",
    "    test_StratifiedKFold()# 调用 test_StratifiedKFold"
   ]
  },
  {
   "cell_type": "markdown",
   "metadata": {},
   "source": [
    "## LeaveOneOut: 用n-1個train，剩下的1個test"
   ]
  },
  {
   "cell_type": "code",
   "execution_count": 15,
   "metadata": {
    "collapsed": false
   },
   "outputs": [
    {
     "name": "stdout",
     "output_type": "stream",
     "text": [
      "Train Index: [1 2 3]\n",
      "Test Index: [0]\n",
      "X_train: [[11 12 13 14]\n",
      " [21 22 23 24]\n",
      " [31 32 33 34]]\n",
      "X_test: [[1 2 3 4]]\n",
      "\n",
      "Train Index: [0 2 3]\n",
      "Test Index: [1]\n",
      "X_train: [[ 1  2  3  4]\n",
      " [21 22 23 24]\n",
      " [31 32 33 34]]\n",
      "X_test: [[11 12 13 14]]\n",
      "\n",
      "Train Index: [0 1 3]\n",
      "Test Index: [2]\n",
      "X_train: [[ 1  2  3  4]\n",
      " [11 12 13 14]\n",
      " [31 32 33 34]]\n",
      "X_test: [[21 22 23 24]]\n",
      "\n",
      "Train Index: [0 1 2]\n",
      "Test Index: [3]\n",
      "X_train: [[ 1  2  3  4]\n",
      " [11 12 13 14]\n",
      " [21 22 23 24]]\n",
      "X_test: [[31 32 33 34]]\n",
      "\n"
     ]
    },
    {
     "name": "stderr",
     "output_type": "stream",
     "text": [
      "//anaconda/lib/python3.5/site-packages/sklearn/cross_validation.py:41: DeprecationWarning: This module was deprecated in version 0.18 in favor of the model_selection module into which all the refactored classes and functions are moved. Also note that the interface of the new CV iterators are different from that of this module. This module will be removed in 0.20.\n",
      "  \"This module will be removed in 0.20.\", DeprecationWarning)\n"
     ]
    }
   ],
   "source": [
    "from sklearn.cross_validation import LeaveOneOut\n",
    "import numpy as np\n",
    "\n",
    "def test_LeaveOneOut():\n",
    "    '''\n",
    "    测试  LeaveOneOut 的用法\n",
    "    :return: None\n",
    "    '''\n",
    "    X=np.array([[1,2,3,4],\n",
    "               [11,12,13,14],\n",
    "               [21,22,23,24],\n",
    "               [31,32,33,34]])\n",
    "    y=np.array([1,1,0,0])\n",
    "\n",
    "    lo=LeaveOneOut(len(y))\n",
    "    for train_index,test_index in lo:\n",
    "        print(\"Train Index:\",train_index)\n",
    "        print(\"Test Index:\",test_index)\n",
    "        print(\"X_train:\",X[train_index])\n",
    "        print(\"X_test:\",X[test_index])\n",
    "        print(\"\")\n",
    "\n",
    "if __name__=='__main__':\n",
    "    test_LeaveOneOut()# 调用 test_LeaveOneOut"
   ]
  },
  {
   "cell_type": "markdown",
   "metadata": {},
   "source": [
    "## cross_val_score: 給予estimator跟cv的切份數，返回每個切份的得分"
   ]
  },
  {
   "cell_type": "code",
   "execution_count": 16,
   "metadata": {
    "collapsed": false
   },
   "outputs": [
    {
     "name": "stdout",
     "output_type": "stream",
     "text": [
      "Cross Val Score is: [ 0.8972973   0.93989071  0.86187845  0.89444444  0.92178771  0.94413408\n",
      "  0.96648045  0.94382022  0.85310734  0.94318182]\n"
     ]
    }
   ],
   "source": [
    "from sklearn.model_selection import train_test_split, KFold, StratifiedKFold, LeaveOneOut, cross_val_score\n",
    "import numpy as np\n",
    "\n",
    "def test_cross_val_score():\n",
    "    '''\n",
    "    测试  cross_val_score 的用法\n",
    "    :return: None\n",
    "    '''\n",
    "    from sklearn.datasets import  load_digits\n",
    "    from sklearn.svm import  LinearSVC\n",
    "\n",
    "    digits=load_digits() # 加载用于分类问题的数据集\n",
    "    X=digits.data\n",
    "    y=digits.target\n",
    "\n",
    "    result=cross_val_score(LinearSVC(),X,y,cv=10) # 使用 LinearSVC 作为分类器\n",
    "    print(\"Cross Val Score is:\",result)\n",
    "\n",
    "if __name__=='__main__':\n",
    "    test_cross_val_score()# 调用 test_cross_val_score"
   ]
  },
  {
   "cell_type": "markdown",
   "metadata": {},
   "source": [
    "# Classification metrics"
   ]
  },
  {
   "cell_type": "markdown",
   "metadata": {},
   "source": [
    "## accuracy_score: 只有比較單純對錯的統計"
   ]
  },
  {
   "cell_type": "code",
   "execution_count": 19,
   "metadata": {
    "collapsed": false
   },
   "outputs": [
    {
     "name": "stdout",
     "output_type": "stream",
     "text": [
      "Accuracy Score(normalize=True): 0.5\n",
      "Accuracy Score(normalize=False): 5\n"
     ]
    }
   ],
   "source": [
    "from sklearn.metrics import accuracy_score,precision_score,recall_score,f1_score\\\n",
    "    ,fbeta_score,classification_report,confusion_matrix,precision_recall_curve,roc_auc_score\\\n",
    "    ,roc_curve\n",
    "from sklearn.datasets import load_iris\n",
    "from sklearn.multiclass import OneVsRestClassifier\n",
    "from sklearn.svm import  SVC\n",
    "from sklearn.model_selection import train_test_split\n",
    "import matplotlib.pyplot as plt\n",
    "from sklearn.preprocessing import label_binarize\n",
    "import numpy as np\n",
    "\n",
    "\n",
    "def test_accuracy_score(): #只有單純比較對錯而已\n",
    "    '''\n",
    "    测试 accuracy_score 的用法\n",
    "    :return: None\n",
    "    '''\n",
    "    y_true=[1,1,1,1,1,0,0,0,0,0]\n",
    "    y_pred=[0,0,1,1,0,0,1,1,0,0]\n",
    "    print('Accuracy Score(normalize=True):',accuracy_score(y_true,y_pred,normalize=True)) #給出答對率\n",
    "    print('Accuracy Score(normalize=False):',accuracy_score(y_true,y_pred,normalize=False)) #給出真正的答對題數\n",
    "\n",
    "if __name__=='__main__':\n",
    "    test_accuracy_score() # 调用 test_accuracy_score"
   ]
  },
  {
   "cell_type": "markdown",
   "metadata": {},
   "source": [
    "## precision_score: 真正為1/預測為1的比例（positive predict rate）"
   ]
  },
  {
   "cell_type": "code",
   "execution_count": 20,
   "metadata": {
    "collapsed": false
   },
   "outputs": [
    {
     "name": "stdout",
     "output_type": "stream",
     "text": [
      "Accuracy Score: 0.7\n",
      "Precision Score: 1.0\n"
     ]
    }
   ],
   "source": [
    "from sklearn.metrics import accuracy_score,precision_score,recall_score,f1_score\\\n",
    "    ,fbeta_score,classification_report,confusion_matrix,precision_recall_curve,roc_auc_score\\\n",
    "    ,roc_curve\n",
    "from sklearn.datasets import load_iris\n",
    "from sklearn.multiclass import OneVsRestClassifier\n",
    "from sklearn.svm import  SVC\n",
    "from sklearn.model_selection import train_test_split\n",
    "import matplotlib.pyplot as plt\n",
    "from sklearn.preprocessing import label_binarize\n",
    "import numpy as np\n",
    "\n",
    "def test_precision_score():\n",
    "    '''\n",
    "    测试 precision_score 的用法\n",
    "    :return:  None\n",
    "    '''\n",
    "    y_true=[1,1,1,1,1,0,0,0,0,0]\n",
    "    y_pred=[0,0,1,1,0,0,0,0,0,0]\n",
    "    print('Accuracy Score:',accuracy_score(y_true,y_pred,normalize=True))\n",
    "    print('Precision Score:',precision_score(y_true,y_pred))    \n",
    "\n",
    "if __name__=='__main__':\n",
    "    test_precision_score() # 调用 test_precision_score"
   ]
  },
  {
   "cell_type": "markdown",
   "metadata": {},
   "source": [
    "## recall_score: 預測為1/真正為1的比例（sensitivity）"
   ]
  },
  {
   "cell_type": "code",
   "execution_count": 21,
   "metadata": {
    "collapsed": false
   },
   "outputs": [
    {
     "name": "stdout",
     "output_type": "stream",
     "text": [
      "Accuracy Score: 0.7\n",
      "Precision Score: 1.0\n",
      "Recall Score: 0.4\n"
     ]
    }
   ],
   "source": [
    "from sklearn.metrics import accuracy_score,precision_score,recall_score,f1_score\\\n",
    "    ,fbeta_score,classification_report,confusion_matrix,precision_recall_curve,roc_auc_score\\\n",
    "    ,roc_curve\n",
    "from sklearn.datasets import load_iris\n",
    "from sklearn.multiclass import OneVsRestClassifier\n",
    "from sklearn.svm import  SVC\n",
    "from sklearn.model_selection import train_test_split\n",
    "import matplotlib.pyplot as plt\n",
    "from sklearn.preprocessing import label_binarize\n",
    "import numpy as np\n",
    "\n",
    "def test_recall_score():\n",
    "    '''\n",
    "    测试 recall_score 的用法\n",
    "    :return:  None\n",
    "    '''\n",
    "    y_true=[1,1,1,1,1,0,0,0,0,0]\n",
    "    y_pred=[0,0,1,1,0,0,0,0,0,0]\n",
    "    print('Accuracy Score:',accuracy_score(y_true,y_pred,normalize=True))\n",
    "    print('Precision Score:',precision_score(y_true,y_pred))\n",
    "    print('Recall Score:',recall_score(y_true,y_pred))\n",
    "\n",
    "if __name__=='__main__':\n",
    "    test_recall_score() # 调用 test_recall_score"
   ]
  },
  {
   "cell_type": "markdown",
   "metadata": {},
   "source": [
    "## f1_score: precision/recall score的harmonic mean"
   ]
  },
  {
   "cell_type": "code",
   "execution_count": 22,
   "metadata": {
    "collapsed": false
   },
   "outputs": [
    {
     "name": "stdout",
     "output_type": "stream",
     "text": [
      "Accuracy Score: 0.7\n",
      "Precision Score: 1.0\n",
      "Recall Score: 0.4\n",
      "F1 Score: 0.571428571429\n"
     ]
    }
   ],
   "source": [
    "from sklearn.metrics import accuracy_score,precision_score,recall_score,f1_score\\\n",
    "    ,fbeta_score,classification_report,confusion_matrix,precision_recall_curve,roc_auc_score\\\n",
    "    ,roc_curve\n",
    "from sklearn.datasets import load_iris\n",
    "from sklearn.multiclass import OneVsRestClassifier\n",
    "from sklearn.svm import  SVC\n",
    "from sklearn.model_selection import train_test_split\n",
    "import matplotlib.pyplot as plt\n",
    "from sklearn.preprocessing import label_binarize\n",
    "import numpy as np\n",
    "    \n",
    "def test_f1_score():\n",
    "    '''\n",
    "    测试 f1_score 的用法\n",
    "    :return: None\n",
    "    '''\n",
    "    y_true=[1,1,1,1,1,0,0,0,0,0]\n",
    "    y_pred=[0,0,1,1,0,0,0,0,0,0]\n",
    "    print('Accuracy Score:',accuracy_score(y_true,y_pred,normalize=True))\n",
    "    print('Precision Score:',precision_score(y_true,y_pred))\n",
    "    print('Recall Score:',recall_score(y_true,y_pred))\n",
    "    print('F1 Score:',f1_score(y_true,y_pred))\n",
    "\n",
    "if __name__=='__main__':\n",
    "    test_f1_score() # 调用 test_f1_score"
   ]
  },
  {
   "cell_type": "markdown",
   "metadata": {},
   "source": [
    "## fbeta_score: beta用來取捨P(b小)和R(b大)，beta=1就是f1"
   ]
  },
  {
   "cell_type": "code",
   "execution_count": 23,
   "metadata": {
    "collapsed": false
   },
   "outputs": [
    {
     "name": "stdout",
     "output_type": "stream",
     "text": [
      "Accuracy Score: 0.7\n",
      "Precision Score: 1.0\n",
      "Recall Score: 0.4\n",
      "F1 Score: 0.571428571429\n",
      "Fbeta Score(beta=0.001): 0.999998500004\n",
      "Fbeta Score(beta=1): 0.571428571429\n",
      "Fbeta Score(beta=10): 0.402390438247\n",
      "Fbeta Score(beta=10000): 0.4000000024\n"
     ]
    }
   ],
   "source": [
    "from sklearn.metrics import accuracy_score,precision_score,recall_score,f1_score\\\n",
    "    ,fbeta_score,classification_report,confusion_matrix,precision_recall_curve,roc_auc_score\\\n",
    "    ,roc_curve\n",
    "from sklearn.datasets import load_iris\n",
    "from sklearn.multiclass import OneVsRestClassifier\n",
    "from sklearn.svm import  SVC\n",
    "from sklearn.model_selection import train_test_split\n",
    "import matplotlib.pyplot as plt\n",
    "from sklearn.preprocessing import label_binarize\n",
    "import numpy as np\n",
    "\n",
    "def test_fbeta_score():\n",
    "    '''\n",
    "    测试 fbeta_score 的用法\n",
    "    :return: None\n",
    "    '''\n",
    "    y_true=[1,1,1,1,1,0,0,0,0,0]\n",
    "    y_pred=[0,0,1,1,0,0,0,0,0,0]\n",
    "    print('Accuracy Score:',accuracy_score(y_true,y_pred,normalize=True))\n",
    "    print('Precision Score:',precision_score(y_true,y_pred))\n",
    "    print('Recall Score:',recall_score(y_true,y_pred))\n",
    "    print('F1 Score:',f1_score(y_true,y_pred))\n",
    "    print('Fbeta Score(beta=0.001):',fbeta_score(y_true,y_pred,beta=0.001))\n",
    "    print('Fbeta Score(beta=1):',fbeta_score(y_true,y_pred,beta=1))\n",
    "    print('Fbeta Score(beta=10):',fbeta_score(y_true,y_pred,beta=10))\n",
    "    print('Fbeta Score(beta=10000):',fbeta_score(y_true,y_pred,beta=10000))\n",
    "    \n",
    "if __name__=='__main__':\n",
    "    test_fbeta_score() # 调用 test_fbeta_score"
   ]
  },
  {
   "cell_type": "markdown",
   "metadata": {},
   "source": [
    "## classification_report"
   ]
  },
  {
   "cell_type": "code",
   "execution_count": 24,
   "metadata": {
    "collapsed": false
   },
   "outputs": [
    {
     "name": "stdout",
     "output_type": "stream",
     "text": [
      "Classification Report:\n",
      "              precision    recall  f1-score   support\n",
      "\n",
      "    class_0       0.62      1.00      0.77         5\n",
      "    class_1       1.00      0.40      0.57         5\n",
      "\n",
      "avg / total       0.81      0.70      0.67        10\n",
      "\n"
     ]
    }
   ],
   "source": [
    "from sklearn.metrics import accuracy_score,precision_score,recall_score,f1_score\\\n",
    "    ,fbeta_score,classification_report,confusion_matrix,precision_recall_curve,roc_auc_score\\\n",
    "    ,roc_curve\n",
    "from sklearn.datasets import load_iris\n",
    "from sklearn.multiclass import OneVsRestClassifier\n",
    "from sklearn.svm import  SVC\n",
    "from sklearn.model_selection import train_test_split\n",
    "import matplotlib.pyplot as plt\n",
    "from sklearn.preprocessing import label_binarize\n",
    "import numpy as np\n",
    " \n",
    "def test_classification_report():\n",
    "    '''\n",
    "    测试 classification_report 的用法\n",
    "    :return:  None\n",
    "    '''\n",
    "    y_true=[1,1,1,1,1,0,0,0,0,0]\n",
    "    y_pred=[0,0,1,1,0,0,0,0,0,0]\n",
    "    print('Classification Report:\\n',classification_report(y_true,y_pred,\n",
    "                                                           target_names=[\"class_0\",\"class_1\"])) #分別把0、1當作正項\n",
    "\n",
    "if __name__=='__main__':\n",
    "    test_classification_report() # 调用 test_classification_report"
   ]
  },
  {
   "cell_type": "markdown",
   "metadata": {},
   "source": [
    "## confusion_matrix"
   ]
  },
  {
   "cell_type": "code",
   "execution_count": 25,
   "metadata": {
    "collapsed": false
   },
   "outputs": [
    {
     "name": "stdout",
     "output_type": "stream",
     "text": [
      "Confusion Matrix:\n",
      " [[5 0]\n",
      " [3 2]]\n"
     ]
    }
   ],
   "source": [
    "from sklearn.metrics import accuracy_score,precision_score,recall_score,f1_score\\\n",
    "    ,fbeta_score,classification_report,confusion_matrix,precision_recall_curve,roc_auc_score\\\n",
    "    ,roc_curve\n",
    "from sklearn.datasets import load_iris\n",
    "from sklearn.multiclass import OneVsRestClassifier\n",
    "from sklearn.svm import  SVC\n",
    "from sklearn.model_selection import train_test_split\n",
    "import matplotlib.pyplot as plt\n",
    "from sklearn.preprocessing import label_binarize\n",
    "import numpy as np\n",
    "\n",
    "def test_confusion_matrix():\n",
    "    '''\n",
    "    测试 confusion_matrix 的用法\n",
    "    :return: None\n",
    "    '''\n",
    "    y_true=[1,1,1,1,1,0,0,0,0,0]\n",
    "    y_pred=[0,0,1,1,0,0,0,0,0,0]\n",
    "    print('Confusion Matrix:\\n',confusion_matrix(y_true,y_pred,labels=[0,1]))\n",
    "\n",
    "if __name__=='__main__':\n",
    "    test_confusion_matrix() # 调用 test_confusion_matrix"
   ]
  },
  {
   "cell_type": "markdown",
   "metadata": {},
   "source": [
    "## precision_recall_curve"
   ]
  },
  {
   "cell_type": "code",
   "execution_count": 26,
   "metadata": {
    "collapsed": false
   },
   "outputs": [
    {
     "data": {
      "image/png": "[encoded data removed]",
      "text/plain": [
       "<matplotlib.figure.Figure at 0x10f65c780>"
      ]
     },
     "metadata": {},
     "output_type": "display_data"
    }
   ],
   "source": [
    "from sklearn.metrics import accuracy_score,precision_score,recall_score,f1_score\\\n",
    "    ,fbeta_score,classification_report,confusion_matrix,precision_recall_curve,roc_auc_score\\\n",
    "    ,roc_curve\n",
    "from sklearn.datasets import load_iris\n",
    "from sklearn.multiclass import OneVsRestClassifier\n",
    "from sklearn.svm import  SVC\n",
    "from sklearn.model_selection import train_test_split\n",
    "import matplotlib.pyplot as plt\n",
    "from sklearn.preprocessing import label_binarize\n",
    "import numpy as np\n",
    "    \n",
    "def test_precision_recall_curve():\n",
    "    '''\n",
    "    测试 precision_recall_curve 的用法，并绘制 P-R 曲线\n",
    "    :return: None\n",
    "    '''\n",
    "    ### 加载数据\n",
    "    iris=load_iris()\n",
    "    X=iris.data\n",
    "    y=iris.target\n",
    "    \n",
    "    # 二元化标记\n",
    "    y = label_binarize(y, classes=[0, 1, 2])\n",
    "    n_classes = y.shape[1]\n",
    "    \n",
    "    #### 添加噪音\n",
    "    np.random.seed(0)\n",
    "    n_samples, n_features = X.shape\n",
    "    X = np.c_[X, np.random.randn(n_samples, 200 * n_features)]\n",
    "\n",
    "    X_train,X_test,y_train,y_test=train_test_split(X,y, test_size=0.5,random_state=0)\n",
    "    \n",
    "    ### 训练模型\n",
    "    clf=OneVsRestClassifier(SVC(kernel='linear', probability=True,random_state=0))\n",
    "    clf.fit(X_train,y_train)\n",
    "    y_score = clf.fit(X_train, y_train).decision_function(X_test)\n",
    "    \n",
    "    ### 获取 P-R\n",
    "    fig=plt.figure()\n",
    "    ax=fig.add_subplot(1,1,1)\n",
    "    precision = dict()\n",
    "    recall = dict()\n",
    "    \n",
    "    for i in range(n_classes):\n",
    "        precision[i], recall[i], _ = precision_recall_curve(y_test[:, i], y_score[:, i])\n",
    "        ax.plot(recall[i],precision[i],label=\"target=%s\"%i)\n",
    "    ax.set_xlabel(\"Recall Score\")\n",
    "    ax.set_ylabel(\"Precision Score\")\n",
    "    ax.set_title(\"P-R\")\n",
    "    ax.legend(loc='best')\n",
    "    ax.set_xlim(0,1.1)\n",
    "    ax.set_ylim(0,1.1)\n",
    "    ax.grid()\n",
    "    plt.show()\n",
    "\n",
    "if __name__=='__main__':\n",
    "    test_precision_recall_curve() # 调用 test_precision_recall_curve"
   ]
  },
  {
   "cell_type": "markdown",
   "metadata": {},
   "source": [
    "## roc_auc_score"
   ]
  },
  {
   "cell_type": "code",
   "execution_count": 31,
   "metadata": {
    "collapsed": false
   },
   "outputs": [
    {
     "ename": "ValueError",
     "evalue": "continuous format is not supported",
     "output_type": "error",
     "traceback": [
      "\u001b[0;31m---------------------------------------------------------------------------\u001b[0m",
      "\u001b[0;31mValueError\u001b[0m                                Traceback (most recent call last)",
      "\u001b[0;32m<ipython-input-31-f966d4e37e41>\u001b[0m in \u001b[0;36m<module>\u001b[0;34m()\u001b[0m\n\u001b[1;32m     57\u001b[0m \u001b[0;34m\u001b[0m\u001b[0m\n\u001b[1;32m     58\u001b[0m \u001b[0;32mif\u001b[0m \u001b[0m__name__\u001b[0m\u001b[0;34m==\u001b[0m\u001b[0;34m'__main__'\u001b[0m\u001b[0;34m:\u001b[0m\u001b[0;34m\u001b[0m\u001b[0m\n\u001b[0;32m---> 59\u001b[0;31m     \u001b[0mtest_roc_auc_score\u001b[0m\u001b[0;34m(\u001b[0m\u001b[0;34m)\u001b[0m \u001b[0;31m# 调用 test_roc_auc_score\u001b[0m\u001b[0;34m\u001b[0m\u001b[0m\n\u001b[0m",
      "\u001b[0;32m<ipython-input-31-f966d4e37e41>\u001b[0m in \u001b[0;36mtest_roc_auc_score\u001b[0;34m()\u001b[0m\n\u001b[1;32m     44\u001b[0m     \u001b[0;32mfor\u001b[0m \u001b[0mi\u001b[0m \u001b[0;32min\u001b[0m \u001b[0mrange\u001b[0m\u001b[0;34m(\u001b[0m\u001b[0mn_classes\u001b[0m\u001b[0;34m)\u001b[0m\u001b[0;34m:\u001b[0m\u001b[0;34m\u001b[0m\u001b[0m\n\u001b[1;32m     45\u001b[0m         \u001b[0mfpr\u001b[0m\u001b[0;34m[\u001b[0m\u001b[0mi\u001b[0m\u001b[0;34m]\u001b[0m\u001b[0;34m,\u001b[0m \u001b[0mtpr\u001b[0m\u001b[0;34m[\u001b[0m\u001b[0mi\u001b[0m\u001b[0;34m]\u001b[0m\u001b[0;34m,\u001b[0m \u001b[0m_\u001b[0m \u001b[0;34m=\u001b[0m \u001b[0mroc_curve\u001b[0m\u001b[0;34m(\u001b[0m\u001b[0my_test\u001b[0m\u001b[0;34m[\u001b[0m\u001b[0;34m:\u001b[0m\u001b[0;34m,\u001b[0m \u001b[0mi\u001b[0m\u001b[0;34m]\u001b[0m\u001b[0;34m,\u001b[0m\u001b[0my_score\u001b[0m\u001b[0;34m[\u001b[0m\u001b[0;34m:\u001b[0m\u001b[0;34m,\u001b[0m \u001b[0mi\u001b[0m\u001b[0;34m]\u001b[0m\u001b[0;34m)\u001b[0m\u001b[0;34m\u001b[0m\u001b[0m\n\u001b[0;32m---> 46\u001b[0;31m         \u001b[0mroc_auc\u001b[0m\u001b[0;34m[\u001b[0m\u001b[0mi\u001b[0m\u001b[0;34m]\u001b[0m \u001b[0;34m=\u001b[0m \u001b[0mroc_auc_score\u001b[0m\u001b[0;34m(\u001b[0m\u001b[0mfpr\u001b[0m\u001b[0;34m[\u001b[0m\u001b[0mi\u001b[0m\u001b[0;34m]\u001b[0m\u001b[0;34m,\u001b[0m \u001b[0mtpr\u001b[0m\u001b[0;34m[\u001b[0m\u001b[0mi\u001b[0m\u001b[0;34m]\u001b[0m\u001b[0;34m)\u001b[0m\u001b[0;34m\u001b[0m\u001b[0m\n\u001b[0m\u001b[1;32m     47\u001b[0m         \u001b[0max\u001b[0m\u001b[0;34m.\u001b[0m\u001b[0mplot\u001b[0m\u001b[0;34m(\u001b[0m\u001b[0mfpr\u001b[0m\u001b[0;34m[\u001b[0m\u001b[0mi\u001b[0m\u001b[0;34m]\u001b[0m\u001b[0;34m,\u001b[0m\u001b[0mtpr\u001b[0m\u001b[0;34m[\u001b[0m\u001b[0mi\u001b[0m\u001b[0;34m]\u001b[0m\u001b[0;34m,\u001b[0m\u001b[0mlabel\u001b[0m\u001b[0;34m=\u001b[0m\u001b[0;34m\"target=%s,auc=%s\"\u001b[0m\u001b[0;34m%\u001b[0m\u001b[0;34m(\u001b[0m\u001b[0mi\u001b[0m\u001b[0;34m,\u001b[0m\u001b[0mroc_auc\u001b[0m\u001b[0;34m[\u001b[0m\u001b[0mi\u001b[0m\u001b[0;34m]\u001b[0m\u001b[0;34m)\u001b[0m\u001b[0;34m)\u001b[0m\u001b[0;34m\u001b[0m\u001b[0m\n\u001b[1;32m     48\u001b[0m     \u001b[0max\u001b[0m\u001b[0;34m.\u001b[0m\u001b[0mplot\u001b[0m\u001b[0;34m(\u001b[0m\u001b[0;34m[\u001b[0m\u001b[0;36m0\u001b[0m\u001b[0;34m,\u001b[0m \u001b[0;36m1\u001b[0m\u001b[0;34m]\u001b[0m\u001b[0;34m,\u001b[0m \u001b[0;34m[\u001b[0m\u001b[0;36m0\u001b[0m\u001b[0;34m,\u001b[0m \u001b[0;36m1\u001b[0m\u001b[0;34m]\u001b[0m\u001b[0;34m,\u001b[0m \u001b[0;34m'k--'\u001b[0m\u001b[0;34m)\u001b[0m\u001b[0;34m\u001b[0m\u001b[0m\n",
      "\u001b[0;32m//anaconda/lib/python3.5/site-packages/sklearn/metrics/ranking.py\u001b[0m in \u001b[0;36mroc_auc_score\u001b[0;34m(y_true, y_score, average, sample_weight)\u001b[0m\n\u001b[1;32m    263\u001b[0m     return _average_binary_score(\n\u001b[1;32m    264\u001b[0m         \u001b[0m_binary_roc_auc_score\u001b[0m\u001b[0;34m,\u001b[0m \u001b[0my_true\u001b[0m\u001b[0;34m,\u001b[0m \u001b[0my_score\u001b[0m\u001b[0;34m,\u001b[0m \u001b[0maverage\u001b[0m\u001b[0;34m,\u001b[0m\u001b[0;34m\u001b[0m\u001b[0m\n\u001b[0;32m--> 265\u001b[0;31m         sample_weight=sample_weight)\n\u001b[0m\u001b[1;32m    266\u001b[0m \u001b[0;34m\u001b[0m\u001b[0m\n\u001b[1;32m    267\u001b[0m \u001b[0;34m\u001b[0m\u001b[0m\n",
      "\u001b[0;32m//anaconda/lib/python3.5/site-packages/sklearn/metrics/base.py\u001b[0m in \u001b[0;36m_average_binary_score\u001b[0;34m(binary_metric, y_true, y_score, average, sample_weight)\u001b[0m\n\u001b[1;32m     70\u001b[0m     \u001b[0my_type\u001b[0m \u001b[0;34m=\u001b[0m \u001b[0mtype_of_target\u001b[0m\u001b[0;34m(\u001b[0m\u001b[0my_true\u001b[0m\u001b[0;34m)\u001b[0m\u001b[0;34m\u001b[0m\u001b[0m\n\u001b[1;32m     71\u001b[0m     \u001b[0;32mif\u001b[0m \u001b[0my_type\u001b[0m \u001b[0;32mnot\u001b[0m \u001b[0;32min\u001b[0m \u001b[0;34m(\u001b[0m\u001b[0;34m\"binary\"\u001b[0m\u001b[0;34m,\u001b[0m \u001b[0;34m\"multilabel-indicator\"\u001b[0m\u001b[0;34m)\u001b[0m\u001b[0;34m:\u001b[0m\u001b[0;34m\u001b[0m\u001b[0m\n\u001b[0;32m---> 72\u001b[0;31m         \u001b[0;32mraise\u001b[0m \u001b[0mValueError\u001b[0m\u001b[0;34m(\u001b[0m\u001b[0;34m\"{0} format is not supported\"\u001b[0m\u001b[0;34m.\u001b[0m\u001b[0mformat\u001b[0m\u001b[0;34m(\u001b[0m\u001b[0my_type\u001b[0m\u001b[0;34m)\u001b[0m\u001b[0;34m)\u001b[0m\u001b[0;34m\u001b[0m\u001b[0m\n\u001b[0m\u001b[1;32m     73\u001b[0m \u001b[0;34m\u001b[0m\u001b[0m\n\u001b[1;32m     74\u001b[0m     \u001b[0;32mif\u001b[0m \u001b[0my_type\u001b[0m \u001b[0;34m==\u001b[0m \u001b[0;34m\"binary\"\u001b[0m\u001b[0;34m:\u001b[0m\u001b[0;34m\u001b[0m\u001b[0m\n",
      "\u001b[0;31mValueError\u001b[0m: continuous format is not supported"
     ]
    }
   ],
   "source": [
    "from sklearn.metrics import accuracy_score,precision_score,recall_score,f1_score\\\n",
    "    ,fbeta_score,classification_report,confusion_matrix,precision_recall_curve,roc_auc_score\\\n",
    "    ,roc_curve\n",
    "from sklearn.datasets import load_iris\n",
    "from sklearn.multiclass import OneVsRestClassifier\n",
    "from sklearn.svm import  SVC\n",
    "from sklearn.model_selection import train_test_split\n",
    "import matplotlib.pyplot as plt\n",
    "from sklearn.preprocessing import label_binarize\n",
    "import numpy as np\n",
    "\n",
    "def test_roc_auc_score():\n",
    "    '''\n",
    "    测试 roc_curve、roc_auc_score 的用法，并绘制 ROC 曲线\n",
    "    :return: None\n",
    "    '''\n",
    "    \n",
    "    ### 加载数据\n",
    "    iris=load_iris()\n",
    "    X=iris.data\n",
    "    y=iris.target\n",
    "    \n",
    "    # 二元化标记\n",
    "    y = label_binarize(y, classes=[0, 1, 2])\n",
    "    n_classes = y.shape[1]\n",
    "    \n",
    "    #### 添加噪音\n",
    "    np.random.seed(0)\n",
    "    n_samples, n_features = X.shape\n",
    "    X = np.c_[X, np.random.randn(n_samples, 200 * n_features)]\n",
    "\n",
    "    X_train,X_test,y_train,y_test = train_test_split(X,y, test_size=0.5,random_state=0)\n",
    "    \n",
    "    ### 训练模型\n",
    "    clf=OneVsRestClassifier(SVC(kernel='linear', probability=True,random_state=0))\n",
    "    clf.fit(X_train,y_train)\n",
    "    y_score = clf.fit(X_train, y_train).decision_function(X_test)\n",
    "    \n",
    "    ### 获取 ROC\n",
    "    fig=plt.figure()\n",
    "    ax=fig.add_subplot(1,1,1)\n",
    "    fpr = dict()\n",
    "    tpr = dict()\n",
    "    roc_auc=dict()\n",
    "    \n",
    "    for i in range(n_classes):\n",
    "        fpr[i], tpr[i], _ = roc_curve(y_test[:, i],y_score[:, i])\n",
    "        roc_auc[i] = roc_auc_score(fpr[i], tpr[i])\n",
    "        ax.plot(fpr[i],tpr[i],label=\"target=%s,auc=%s\"%(i,roc_auc[i]))\n",
    "    ax.plot([0, 1], [0, 1], 'k--')\n",
    "    ax.set_xlabel(\"FPR\")\n",
    "    ax.set_ylabel(\"TPR\")\n",
    "    ax.set_title(\"ROC\")\n",
    "    ax.legend(loc=\"best\")\n",
    "    ax.set_xlim(0,1.1)\n",
    "    ax.set_ylim(0,1.1)\n",
    "    ax.grid()\n",
    "    plt.show()\n",
    "\n",
    "if __name__=='__main__':\n",
    "    test_roc_auc_score() # 调用 test_roc_auc_score"
   ]
  },
  {
   "cell_type": "markdown",
   "metadata": {},
   "source": [
    "# regression_metrics: mae, mse"
   ]
  },
  {
   "cell_type": "code",
   "execution_count": 33,
   "metadata": {
    "collapsed": false
   },
   "outputs": [
    {
     "name": "stdout",
     "output_type": "stream",
     "text": [
      "Mean Absolute Error: 0.8\n",
      "Mean Absolute Error: 0.8\n",
      "Mean Square Error: 1.2\n"
     ]
    }
   ],
   "source": [
    "from sklearn.metrics import mean_absolute_error,mean_squared_error\n",
    "\n",
    "def test_mean_absolute_error():\n",
    "    '''\n",
    "    测试 mean_absolute_error 的用法\n",
    "    :return: None\n",
    "    '''\n",
    "    y_true=[1,1,1,1,1,2,2,2,0,0]\n",
    "    y_pred=[0,0,0,1,1,1,0,0,0,0]\n",
    "\n",
    "    print(\"Mean Absolute Error:\",mean_absolute_error(y_true,y_pred))\n",
    "\n",
    "def test_mean_squared_error():\n",
    "    '''\n",
    "    测试 mean_squared_error 的用法\n",
    "    :return: None\n",
    "    '''\n",
    "    y_true=[1,1,1,1,1,2,2,2,0,0]\n",
    "    y_pred=[0,0,0,1,1,1,0,0,0,0]\n",
    "\n",
    "    print(\"Mean Absolute Error:\",mean_absolute_error(y_true,y_pred))\n",
    "    print(\"Mean Square Error:\",mean_squared_error(y_true,y_pred))\n",
    "\n",
    "if __name__==\"__main__\":\n",
    "    test_mean_absolute_error() # 调用  test_mean_absolute_error()\n",
    "    test_mean_squared_error() # 调用  test_mean_squared_error()"
   ]
  },
  {
   "cell_type": "markdown",
   "metadata": {},
   "source": [
    "# validation_curve: 驗證參數及其取值對score的影響"
   ]
  },
  {
   "cell_type": "code",
   "execution_count": 38,
   "metadata": {
    "collapsed": false
   },
   "outputs": [
    {
     "data": {
      "image/png": "[encoded data removed]",
      "text/plain": [
       "<matplotlib.figure.Figure at 0x10bdf9470>"
      ]
     },
     "metadata": {},
     "output_type": "display_data"
    }
   ],
   "source": [
    "import matplotlib.pyplot as plt\n",
    "import numpy as np\n",
    "from sklearn.datasets import load_digits\n",
    "from sklearn.svm import LinearSVC\n",
    "from sklearn.learning_curve import validation_curve\n",
    "\n",
    "def test_validation_curve():\n",
    "    '''\n",
    "    测试 validation_curve 的用法 。验证对于 LinearSVC 分类器 ， C 参数对于预测准确率的影响\n",
    "    :return:  None\n",
    "    '''\n",
    "    ### 加载数据\n",
    "    digits = load_digits()\n",
    "    X,y=digits.data,digits.target\n",
    "    \n",
    "    #### 获取验证曲线 ######\n",
    "    param_name=\"C\"\n",
    "    param_range = np.logspace(-2, 2)\n",
    "    train_scores, test_scores = validation_curve(LinearSVC(), X, y, \n",
    "                                                 param_name=param_name, param_range=param_range,#就這行最重要\n",
    "                                                 cv=10, scoring=\"accuracy\")\n",
    "    \n",
    "    ###### 对每个 C ，获取 10 折交叉上的预测得分上的均值和方差 #####\n",
    "    train_scores_mean = np.mean(train_scores, axis=1)\n",
    "    train_scores_std = np.std(train_scores, axis=1)\n",
    "    test_scores_mean = np.mean(test_scores, axis=1)\n",
    "    test_scores_std = np.std(test_scores, axis=1)\n",
    "    \n",
    "    ####### 绘图 ######\n",
    "    fig=plt.figure()\n",
    "    ax=fig.add_subplot(1,1,1)\n",
    "\n",
    "    ax.semilogx(param_range, train_scores_mean, label=\"Training Accuracy\", color=\"r\") #semilogx為對x軸取log為坐標\n",
    "    ax.fill_between(param_range, train_scores_mean - train_scores_std,\n",
    "                     train_scores_mean + train_scores_std, alpha=0.2, color=\"r\")\n",
    "    ax.semilogx(param_range, test_scores_mean, label=\"Testing Accuracy\", color=\"g\")\n",
    "    ax.fill_between(param_range, test_scores_mean - test_scores_std,\n",
    "                     test_scores_mean + test_scores_std, alpha=0.2, color=\"g\")\n",
    "\n",
    "    ax.set_title(\"Validation Curve with LinearSVC\")\n",
    "    ax.set_xlabel(\"C\")\n",
    "    ax.set_ylabel(\"Score\")\n",
    "    ax.set_ylim(0,1.1)\n",
    "    ax.legend(loc='best')\n",
    "    plt.show()\n",
    "\n",
    "if __name__=='__main__':\n",
    "    test_validation_curve() # 调用 test_validation_curve"
   ]
  },
  {
   "cell_type": "markdown",
   "metadata": {},
   "source": [
    "# learning_curve：驗證data size對score的影響"
   ]
  },
  {
   "cell_type": "code",
   "execution_count": 36,
   "metadata": {
    "collapsed": false
   },
   "outputs": [
    {
     "data": {
      "image/png": "[encoded data removed]",
      "text/plain": [
       "<matplotlib.figure.Figure at 0x112188630>"
      ]
     },
     "metadata": {},
     "output_type": "display_data"
    }
   ],
   "source": [
    "import matplotlib.pyplot as plt\n",
    "import numpy as np\n",
    "from sklearn.datasets import load_digits\n",
    "from sklearn.svm import LinearSVC\n",
    "from sklearn.learning_curve import learning_curve\n",
    "\n",
    "def test_learning_curve():\n",
    "    '''\n",
    "    测试 learning_curve 的用法 。验证对于 LinearSVC 分类器 ，数据集的大小对于预测性能的影响\n",
    "    :return:\n",
    "    '''\n",
    "    ### 加载数据\n",
    "    digits = load_digits()\n",
    "    X,y=digits.data,digits.target\n",
    "    \n",
    "    #### 获取学习曲线 ######\n",
    "    train_sizes=np.linspace(0.1,1.0,endpoint=True,dtype='float')\n",
    "    abs_trains_sizes, train_scores, test_scores = learning_curve(LinearSVC(),X, y,cv=10, \n",
    "                                                                 scoring=\"accuracy\",train_sizes=train_sizes) #就這行最重要\n",
    "    \n",
    "    ###### 对每个 train_sizes ，获取 10 折交叉上的预测得分上的均值和方差 #####\n",
    "    train_scores_mean = np.mean(train_scores, axis=1)\n",
    "    train_scores_std = np.std(train_scores, axis=1)\n",
    "    test_scores_mean = np.mean(test_scores, axis=1)\n",
    "    test_scores_std = np.std(test_scores, axis=1)\n",
    "    \n",
    "    ####### 绘图 ######\n",
    "    fig=plt.figure()\n",
    "    ax=fig.add_subplot(1,1,1)\n",
    "\n",
    "    ax.plot(abs_trains_sizes, train_scores_mean, label=\"Training Accuracy\", color=\"r\")\n",
    "    ax.fill_between(abs_trains_sizes, train_scores_mean - train_scores_std,\n",
    "                     train_scores_mean + train_scores_std, alpha=0.2, color=\"r\")\n",
    "    ax.plot(abs_trains_sizes, test_scores_mean, label=\"Testing Accuracy\", color=\"g\")\n",
    "    ax.fill_between(abs_trains_sizes, test_scores_mean - test_scores_std,\n",
    "                     test_scores_mean + test_scores_std, alpha=0.2, color=\"g\")\n",
    "\n",
    "    ax.set_title(\"Learning Curve with LinearSVC\")\n",
    "    ax.set_xlabel(\"Sample Nums\")\n",
    "    ax.set_ylabel(\"Score\")\n",
    "    ax.set_ylim(0,1.1)\n",
    "    ax.legend(loc='best')\n",
    "    plt.show()\n",
    "\n",
    "if __name__==\"__main__\":\n",
    "    test_learning_curve() # 调用 test_learning_curve"
   ]
  },
  {
   "cell_type": "markdown",
   "metadata": {},
   "source": [
    "# grid_search: 試驗出最佳參數(param_grid用字典給出，key為名稱，value試驗值)"
   ]
  },
  {
   "cell_type": "code",
   "execution_count": 37,
   "metadata": {
    "collapsed": false
   },
   "outputs": [
    {
     "name": "stdout",
     "output_type": "stream",
     "text": [
      "Best parameters set found: {'penalty': 'l2', 'C': 0.01, 'multi_class': 'multinomial', 'solver': 'lbfgs'}\n",
      "Grid scores:\n",
      "\t0.930 (+/-0.031) for {'penalty': 'l1', 'C': 0.01, 'multi_class': 'ovr', 'solver': 'liblinear'}\n",
      "\t0.965 (+/-0.022) for {'penalty': 'l2', 'C': 0.01, 'multi_class': 'ovr', 'solver': 'liblinear'}\n",
      "\t0.964 (+/-0.022) for {'penalty': 'l1', 'C': 0.05, 'multi_class': 'ovr', 'solver': 'liblinear'}\n",
      "\t0.965 (+/-0.023) for {'penalty': 'l2', 'C': 0.05, 'multi_class': 'ovr', 'solver': 'liblinear'}\n",
      "\t0.965 (+/-0.024) for {'penalty': 'l1', 'C': 0.1, 'multi_class': 'ovr', 'solver': 'liblinear'}\n",
      "\t0.964 (+/-0.023) for {'penalty': 'l2', 'C': 0.1, 'multi_class': 'ovr', 'solver': 'liblinear'}\n",
      "\t0.958 (+/-0.030) for {'penalty': 'l1', 'C': 0.5, 'multi_class': 'ovr', 'solver': 'liblinear'}\n",
      "\t0.952 (+/-0.028) for {'penalty': 'l2', 'C': 0.5, 'multi_class': 'ovr', 'solver': 'liblinear'}\n",
      "\t0.951 (+/-0.025) for {'penalty': 'l1', 'C': 1, 'multi_class': 'ovr', 'solver': 'liblinear'}\n",
      "\t0.953 (+/-0.028) for {'penalty': 'l2', 'C': 1, 'multi_class': 'ovr', 'solver': 'liblinear'}\n",
      "\t0.952 (+/-0.022) for {'penalty': 'l1', 'C': 5, 'multi_class': 'ovr', 'solver': 'liblinear'}\n",
      "\t0.951 (+/-0.025) for {'penalty': 'l2', 'C': 5, 'multi_class': 'ovr', 'solver': 'liblinear'}\n",
      "\t0.950 (+/-0.020) for {'penalty': 'l1', 'C': 10, 'multi_class': 'ovr', 'solver': 'liblinear'}\n",
      "\t0.951 (+/-0.023) for {'penalty': 'l2', 'C': 10, 'multi_class': 'ovr', 'solver': 'liblinear'}\n",
      "\t0.947 (+/-0.015) for {'penalty': 'l1', 'C': 50, 'multi_class': 'ovr', 'solver': 'liblinear'}\n",
      "\t0.944 (+/-0.027) for {'penalty': 'l2', 'C': 50, 'multi_class': 'ovr', 'solver': 'liblinear'}\n",
      "\t0.943 (+/-0.018) for {'penalty': 'l1', 'C': 100, 'multi_class': 'ovr', 'solver': 'liblinear'}\n",
      "\t0.941 (+/-0.028) for {'penalty': 'l2', 'C': 100, 'multi_class': 'ovr', 'solver': 'liblinear'}\n",
      "\t0.964 (+/-0.027) for {'penalty': 'l2', 'C': 0.01, 'multi_class': 'ovr', 'solver': 'lbfgs'}\n",
      "\t0.967 (+/-0.024) for {'penalty': 'l2', 'C': 0.01, 'multi_class': 'multinomial', 'solver': 'lbfgs'}\n",
      "\t0.964 (+/-0.018) for {'penalty': 'l2', 'C': 0.05, 'multi_class': 'ovr', 'solver': 'lbfgs'}\n",
      "\t0.967 (+/-0.017) for {'penalty': 'l2', 'C': 0.05, 'multi_class': 'multinomial', 'solver': 'lbfgs'}\n",
      "\t0.964 (+/-0.022) for {'penalty': 'l2', 'C': 0.1, 'multi_class': 'ovr', 'solver': 'lbfgs'}\n",
      "\t0.964 (+/-0.023) for {'penalty': 'l2', 'C': 0.1, 'multi_class': 'multinomial', 'solver': 'lbfgs'}\n",
      "\t0.953 (+/-0.026) for {'penalty': 'l2', 'C': 0.5, 'multi_class': 'ovr', 'solver': 'lbfgs'}\n",
      "\t0.964 (+/-0.026) for {'penalty': 'l2', 'C': 0.5, 'multi_class': 'multinomial', 'solver': 'lbfgs'}\n",
      "\t0.952 (+/-0.028) for {'penalty': 'l2', 'C': 1, 'multi_class': 'ovr', 'solver': 'lbfgs'}\n",
      "\t0.963 (+/-0.021) for {'penalty': 'l2', 'C': 1, 'multi_class': 'multinomial', 'solver': 'lbfgs'}\n",
      "\t0.952 (+/-0.027) for {'penalty': 'l2', 'C': 5, 'multi_class': 'ovr', 'solver': 'lbfgs'}\n",
      "\t0.961 (+/-0.026) for {'penalty': 'l2', 'C': 5, 'multi_class': 'multinomial', 'solver': 'lbfgs'}\n",
      "\t0.950 (+/-0.029) for {'penalty': 'l2', 'C': 10, 'multi_class': 'ovr', 'solver': 'lbfgs'}\n",
      "\t0.959 (+/-0.026) for {'penalty': 'l2', 'C': 10, 'multi_class': 'multinomial', 'solver': 'lbfgs'}\n",
      "\t0.944 (+/-0.026) for {'penalty': 'l2', 'C': 50, 'multi_class': 'ovr', 'solver': 'lbfgs'}\n",
      "\t0.958 (+/-0.030) for {'penalty': 'l2', 'C': 50, 'multi_class': 'multinomial', 'solver': 'lbfgs'}\n",
      "\t0.937 (+/-0.030) for {'penalty': 'l2', 'C': 100, 'multi_class': 'ovr', 'solver': 'lbfgs'}\n",
      "\t0.956 (+/-0.026) for {'penalty': 'l2', 'C': 100, 'multi_class': 'multinomial', 'solver': 'lbfgs'}\n",
      "Optimized Score: 0.973333333333\n",
      "Detailed classification report:\n",
      "             precision    recall  f1-score   support\n",
      "\n",
      "          0       1.00      1.00      1.00        45\n",
      "          1       0.87      0.98      0.92        46\n",
      "          2       1.00      0.98      0.99        44\n",
      "          3       1.00      1.00      1.00        46\n",
      "          4       1.00      0.96      0.98        45\n",
      "          5       0.96      0.98      0.97        46\n",
      "          6       1.00      0.98      0.99        45\n",
      "          7       1.00      1.00      1.00        45\n",
      "          8       0.93      0.88      0.90        43\n",
      "          9       1.00      0.98      0.99        45\n",
      "\n",
      "avg / total       0.97      0.97      0.97       450\n",
      "\n"
     ]
    },
    {
     "name": "stderr",
     "output_type": "stream",
     "text": [
      "//anaconda/lib/python3.5/site-packages/sklearn/model_selection/_search.py:747: DeprecationWarning: The grid_scores_ attribute was deprecated in version 0.18 in favor of the more elaborate cv_results_ attribute. The grid_scores_ attribute will not be available from 0.20\n",
      "  DeprecationWarning)\n"
     ]
    }
   ],
   "source": [
    "from sklearn.datasets import load_digits\n",
    "from sklearn.linear_model import  LogisticRegression\n",
    "from sklearn.model_selection import GridSearchCV,RandomizedSearchCV\n",
    "from sklearn.metrics import classification_report\n",
    "from sklearn.model_selection import train_test_split\n",
    "import scipy\n",
    "\n",
    "def test_GridSearchCV():\n",
    "    '''\n",
    "    测试 GridSearchCV 的用法。使用 LogisticRegression 作为分类器，主要优化 C、penalty、multi_class 等参数\n",
    "    :return: None\n",
    "    '''\n",
    "    \n",
    "    ### 加载数据\n",
    "    digits = load_digits()\n",
    "    X_train,X_test,y_train,y_test=train_test_split(digits.data, digits.target,test_size=0.25,\n",
    "                random_state=0,stratify=digits.target)\n",
    "    \n",
    "    #### 参数优化 ###### 使用字典形式\n",
    "    tuned_parameters = [{'penalty': ['l1','l2'],\n",
    "                        'C': [0.01,0.05,0.1,0.5,1,5,10,50,100],\n",
    "                        'solver':['liblinear'],\n",
    "                        'multi_class': ['ovr']},\n",
    "\n",
    "                        {'penalty': ['l2'],\n",
    "                        'C': [0.01,0.05,0.1,0.5,1,5,10,50,100],\n",
    "                        'solver':['lbfgs'],\n",
    "                        'multi_class': ['ovr','multinomial']},\n",
    "                       ]\n",
    "    clf=GridSearchCV(LogisticRegression(tol=1e-6),tuned_parameters,cv=10)\n",
    "    clf.fit(X_train,y_train)\n",
    "    print(\"Best parameters set found:\",clf.best_params_)\n",
    "    print(\"Grid scores:\")\n",
    "    \n",
    "    for params, mean_score, scores in clf.grid_scores_:\n",
    "        print(\"\\t%0.3f (+/-%0.03f) for %s\" % (mean_score, scores.std() * 2, params))\n",
    "\n",
    "    print(\"Optimized Score:\",clf.score(X_test,y_test))\n",
    "    print(\"Detailed classification report:\")\n",
    "    \n",
    "    y_true, y_pred = y_test, clf.predict(X_test)\n",
    "    print(classification_report(y_true, y_pred))\n",
    "\n",
    "def test_RandomizedSearchCV():\n",
    "    '''\n",
    "    测试 RandomizedSearchCV 的用法。使用 LogisticRegression 作为分类器，主要优化 C、multi_class 等参数。其中 C 的分布函数为指数分布\n",
    "    :return:  None\n",
    "    '''\n",
    "    \n",
    "    ### 加载数据\n",
    "    digits = load_digits()\n",
    "    X_train,X_test,y_train,y_test=train_test_split(digits.data, digits.target,\n",
    "                test_size=0.25,random_state=0,stratify=digits.target)\n",
    "    \n",
    "    #### 参数优化 ######\n",
    "    tuned_parameters ={ 'C': scipy.stats.expon(scale=100), # 指数分布\n",
    "                        'multi_class': ['ovr','multinomial']}\n",
    "    clf=RandomizedSearchCV(LogisticRegression(penalty='l2',solver='lbfgs',tol=1e-6),\n",
    "                        tuned_parameters,cv=10,scoring=\"accuracy\",n_iter=100)\n",
    "    clf.fit(X_train,y_train)\n",
    "    print(\"Best parameters set found:\",clf.best_params_)\n",
    "    print(\"Randomized Grid scores:\")\n",
    "    \n",
    "    for params, mean_score, scores in clf.grid_scores_:\n",
    "        print(\"\\t%0.3f (+/-%0.03f) for %s\" % (mean_score, scores.std() * 2, params))\n",
    "\n",
    "    print(\"Optimized Score:\",clf.score(X_test,y_test))\n",
    "    print(\"Detailed classification report:\")\n",
    "    \n",
    "    y_true, y_pred = y_test, clf.predict(X_test)\n",
    "    print(classification_report(y_true, y_pred))\n",
    "\n",
    "if __name__=='__main__':\n",
    "    test_GridSearchCV()# 调用 test_GridSearchCV\n",
    "    # test_RandomizedSearchCV() # 调用 test_RandomizedSearchCV"
   ]
  },
  {
   "cell_type": "code",
   "execution_count": null,
   "metadata": {
    "collapsed": true
   },
   "outputs": [],
   "source": []
  }
 ],
 "metadata": {
  "kernelspec": {
   "display_name": "Python [conda root]",
   "language": "python",
   "name": "conda-root-py"
  },
  "language_info": {
   "codemirror_mode": {
    "name": "ipython",
    "version": 3
   },
   "file_extension": ".py",
   "mimetype": "text/x-python",
   "name": "python",
   "nbconvert_exporter": "python",
   "pygments_lexer": "ipython3",
   "version": "3.5.2"
  }
 },
 "nbformat": 4,
 "nbformat_minor": 1
}
