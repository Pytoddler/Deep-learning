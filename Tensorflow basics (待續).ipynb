{
 "cells": [
  {
   "cell_type": "markdown",
   "metadata": {},
   "source": [
    "# 一元一次方程式 regression"
   ]
  },
  {
   "cell_type": "markdown",
   "metadata": {},
   "source": [
    "## 基本結構:<br/>創造模擬data、input data（可以是實際data的部分）、各項起始參數(Weights, biases)、猜測目標函數形式、計算loss大小、優化方式（降低梯度減少loss）</br> sess激活init</br> for迴圈實作次數</br>"
   ]
  },
  {
   "cell_type": "code",
   "execution_count": 7,
   "metadata": {
    "collapsed": false
   },
   "outputs": [
    {
     "name": "stdout",
     "output_type": "stream",
     "text": [
      "0 [ 0.25180519] [ 0.29948443]\n",
      "20 [ 0.13223948] [ 0.28267112]\n",
      "40 [ 0.1088089] [ 0.2952652]\n",
      "60 [ 0.10240687] [ 0.29870629]\n",
      "80 [ 0.10065764] [ 0.29964653]\n",
      "100 [ 0.10017969] [ 0.29990342]\n",
      "120 [ 0.10004911] [ 0.29997361]\n",
      "140 [ 0.10001343] [ 0.2999928]\n",
      "160 [ 0.10000365] [ 0.29999804]\n",
      "180 [ 0.10000099] [ 0.29999948]\n",
      "200 [ 0.10000029] [ 0.29999986]\n"
     ]
    }
   ],
   "source": [
    "import tensorflow as tf\n",
    "import numpy as np\n",
    "\n",
    "#create data\n",
    "x_data = np.random.rand(100).astype(np.float32)\n",
    "y_data = x_data*0.1 + 0.3\n",
    "\n",
    "#create tensorflow structure start\n",
    "Weights = tf.Variable(tf.random_uniform([1], -1.0, 1.0))  #從-1到1隨機出數字\n",
    "biases = tf.Variable(tf.zeros([1]))  #初始值定義成0\n",
    "\n",
    "y = Weights*(x_data) + biases\n",
    "\n",
    "loss = tf.reduce_mean(tf.square(y-y_data)) #最小平方差法\n",
    "optimizer = tf.train.GradientDescentOptimizer(0.5) #把GradientDescent降到最低，0.5是學習效率，通常<1\n",
    "train = optimizer.minimize(loss) #把loss降到最低\n",
    "\n",
    "#以上兩個可以寫成一行字： train = tf.train.GradientDescentOptimizer(0.5).minimize(loss)\n",
    "\n",
    "init = tf.global_variables_initializer() #初始化整個結構，才可以開始活動\n",
    "\n",
    "#create tensorflow structure end\n",
    "sess = tf.Session() #創建指標\n",
    "sess.run(init) #先激活我的init\n",
    "\n",
    "for step in range(201): #訓練200次\n",
    "    sess.run(train) #後來指向我的train\n",
    "    if step % 20 == 0:\n",
    "        print(step, sess.run(Weights), sess.run(biases))"
   ]
  },
  {
   "cell_type": "markdown",
   "metadata": {},
   "source": [
    "2017版本寫法"
   ]
  },
  {
   "cell_type": "code",
   "execution_count": 41,
   "metadata": {
    "collapsed": false
   },
   "outputs": [
    {
     "name": "stdout",
     "output_type": "stream",
     "text": [
      "None [-0.12789011] [ 0.38303819]\n",
      "None [ 0.05312916] [ 0.32489255]\n",
      "None [ 0.08964481] [ 0.30549952]\n",
      "None [ 0.09771223] [ 0.30121502]\n",
      "None [ 0.09949455] [ 0.30026844]\n",
      "None [ 0.09988833] [ 0.30005932]\n",
      "None [ 0.09997534] [ 0.30001312]\n",
      "None [ 0.09999456] [ 0.3000029]\n",
      "None [ 0.09999879] [ 0.30000067]\n",
      "None [ 0.09999974] [ 0.30000016]\n",
      "None [ 0.0999999] [ 0.30000007]\n"
     ]
    }
   ],
   "source": [
    "import tensorflow as tf\n",
    "import numpy as np\n",
    "\n",
    "#create data\n",
    "x_data = np.random.rand(1000).astype(np.float32)\n",
    "y_data = x_data*0.1 + 0.3\n",
    "\n",
    "#create tensorflow structure start\n",
    "Weights = tf.Variable(tf.random_uniform([1], -1.0, 1.0))  #從-1到1隨機出數字\n",
    "biases = tf.Variable(tf.zeros([1]))  #初始值定義成0\n",
    "\n",
    "y = Weights*(x_data) + biases\n",
    "\n",
    "loss = tf.losses.mean_squared_error(y_data, y) #如何度量精準度\n",
    "train_step = tf.train.GradientDescentOptimizer(0.5).minimize(loss) #訓練精準\n",
    "\n",
    "#create tensorflow structure end\n",
    "sess = tf.Session() #創建指標\n",
    "sess.run(tf.global_variables_initializer()) #先激活我的init\n",
    "\n",
    "for step in range(201): #訓練200次\n",
    "    sess.run(train_step) #後來指向我的train\n",
    "    if step % 20 == 0:\n",
    "        print(sess.run(train_step), sess.run(Weights), sess.run(biases))"
   ]
  },
  {
   "cell_type": "markdown",
   "metadata": {},
   "source": [
    "# session會話控制: sess.run()"
   ]
  },
  {
   "cell_type": "code",
   "execution_count": 8,
   "metadata": {
    "collapsed": false
   },
   "outputs": [
    {
     "name": "stdout",
     "output_type": "stream",
     "text": [
      "[[12]]\n"
     ]
    }
   ],
   "source": [
    "import tensorflow as tf\n",
    "\n",
    "matrix1 = tf.constant([[3,3]])\n",
    "matrix2 = tf.constant([[2],\n",
    "                       [2]])\n",
    "\n",
    "product = tf.matmul(matrix1, matrix2) #矩陣相乘，np.dot(m1,m2)\n",
    "\n",
    "#method1\n",
    "sess = tf.Session()\n",
    "result = sess.run(product)\n",
    "print(result)\n",
    "sess.close() #要close\n",
    "\n",
    "#method 2\n",
    "with tf.Session() as sess:\n",
    "    result2 = sess.run(product)\n",
    "    print(result2) #with的寫法後面不用close"
   ]
  },
  {
   "cell_type": "markdown",
   "metadata": {},
   "source": [
    "# Variables 變量: 一定要定義＋初始化＋使用sess指針"
   ]
  },
  {
   "cell_type": "code",
   "execution_count": 13,
   "metadata": {
    "collapsed": false
   },
   "outputs": [
    {
     "name": "stdout",
     "output_type": "stream",
     "text": [
      "counter_3:0\n",
      "1\n",
      "2\n",
      "3\n"
     ]
    }
   ],
   "source": [
    "import tensorflow as tf\n",
    "\n",
    "#一定要定義變量\n",
    "state = tf.Variable(0, name='counter')\n",
    "#print(state.name)\n",
    "one = tf.constant(1)\n",
    "\n",
    "# new_value = state + one\n",
    "new_value = tf.add(state, one) \n",
    "\n",
    "# state = new_value 指定\n",
    "update = tf.assign(state, new_value) #動作\n",
    "\n",
    "#如果有定義，一定要變量初始化整個變量，才可以開始活動\n",
    "init = tf.global_variables_initializer() \n",
    "\n",
    "with tf.Session() as sess:\n",
    "    sess.run(init)\n",
    "    for _ in range(3):\n",
    "        sess.run(update) #動作\n",
    "        print(sess.run(state))"
   ]
  },
  {
   "cell_type": "markdown",
   "metadata": {},
   "source": [
    "# Placeholder，run的時候綁定dict形式的資料"
   ]
  },
  {
   "cell_type": "code",
   "execution_count": 17,
   "metadata": {
    "collapsed": false
   },
   "outputs": [
    {
     "name": "stdout",
     "output_type": "stream",
     "text": [
      "[ 14.]\n"
     ]
    }
   ],
   "source": [
    "import tensorflow as tf\n",
    "\n",
    "input1 = tf.placeholder(tf.float32) #給定type: float32，也可以給結構\n",
    "input2 = tf.placeholder(tf.float32)\n",
    "\n",
    "output = tf.multiply(input1, input2) #乘法\n",
    "\n",
    "with tf.Session() as sess:\n",
    "    print(sess.run(output, feed_dict={input1:[7.], input2:[2.]}))"
   ]
  },
  {
   "cell_type": "markdown",
   "metadata": {},
   "source": [
    "# Activation function 激勵函數，在layer 2之後輸出前會經過激勵函數（非線性用）"
   ]
  },
  {
   "cell_type": "raw",
   "metadata": {},
   "source": [
    "tf.nn.relu\n",
    "tf.nn.relu6\n",
    "tf.nn.crelu\n",
    "tf.nn.elu\n",
    "tf.nn.softplus\n",
    "tf.nn.softsign\n",
    "tf.nn.dropout\n",
    "tf.nn.bias_add\n",
    "tf.sigmoid\n",
    "tf.tanh"
   ]
  },
  {
   "cell_type": "markdown",
   "metadata": {},
   "source": [
    "# 添加層 def add_layer() 大咖：Weights, biases, Wx_plus_b，最後Activation func"
   ]
  },
  {
   "cell_type": "markdown",
   "metadata": {},
   "source": [
    "## 2017 神經層 tf.layers.dense(inputs, units, activation function, name='layer名字')"
   ]
  },
  {
   "cell_type": "code",
   "execution_count": null,
   "metadata": {
    "collapsed": true
   },
   "outputs": [],
   "source": [
    "import tensorflow as tf\n",
    "\n",
    "def add_layer(inputs, in_size, out_size, activation_function=None): #沒有act表示是線性函數\n",
    "    Weights = tf.Variable(tf.random_normal([in_size, out_size])) #矩陣名稱使用大寫，norm. dist. in行 out列的矩陣\n",
    "    biases = tf.Variable(tf.zeros([1, out_size]) + 0.1) #一維度的list\n",
    "    Wx_plus_b = tf.matmul(input, Weights) + biases #目標\n",
    "    if activation_function is None:\n",
    "        outputs = Wx_plus_b\n",
    "    else:\n",
    "        outputs = activation_function(Wx_plus_b)\n",
    "    return outputs"
   ]
  },
  {
   "cell_type": "markdown",
   "metadata": {},
   "source": [
    "以下例子是層數：input、1層prediction的hidden layer、ouput"
   ]
  },
  {
   "cell_type": "code",
   "execution_count": 30,
   "metadata": {
    "collapsed": false
   },
   "outputs": [
    {
     "name": "stdout",
     "output_type": "stream",
     "text": [
      "0.258726\n",
      "0.0101269\n",
      "0.00777926\n",
      "0.00658578\n",
      "0.00532753\n",
      "0.00440905\n",
      "0.00375664\n",
      "0.00331161\n",
      "0.00305845\n",
      "0.00288277\n",
      "0.00275767\n",
      "0.0026712\n",
      "0.00259287\n",
      "0.00254429\n",
      "0.0025064\n",
      "0.00247929\n",
      "0.00246014\n",
      "0.00244495\n",
      "0.00243077\n",
      "0.00241936\n"
     ]
    }
   ],
   "source": [
    "import tensorflow as tf\n",
    "import numpy as np\n",
    "\n",
    "def add_layer(inputs, in_size, out_size, activation_function=None): #default沒有act表示是線性函數\n",
    "    Weights = tf.Variable(tf.random_normal([in_size, out_size])) #矩陣名稱使用大寫，norm. dist. in行 out列的矩陣\n",
    "    biases = tf.Variable(tf.zeros([1, out_size]) + 0.1) #一維度的list\n",
    "    Wx_plus_b = tf.matmul(inputs, Weights) + biases #目標\n",
    "    if activation_function is None:\n",
    "        outputs = Wx_plus_b\n",
    "    else:\n",
    "        outputs = activation_function(Wx_plus_b)\n",
    "    return outputs\n",
    "\n",
    "#創造資料\n",
    "x_data = np.linspace(-1,1,300, dtype=np.float32)[:, np.newaxis]\n",
    "noise = np.random.normal(0, 0.05, x_data.shape).astype(np.float32)\n",
    "y_data = np.square(x_data) - 0.5 + noise\n",
    "\n",
    "#Layers input\n",
    "xs = tf.placeholder(tf.float32, [None, 1])\n",
    "ys = tf.placeholder(tf.float32, [None, 1])\n",
    "#L1中的1是input_size = input data的維度，10是output_size = hidden layers有10個神經元數目\n",
    "l1 = add_layer(xs, 1, 10, activation_function=tf.nn.relu)\n",
    "#Prediction的10是表示hidden layer有10個神經元輸入給他，output_size是1表示最後輸出一個維度的數據給我們\n",
    "prediction = add_layer(l1, 10,1, activation_function=None) #AF=None表示線性函式\n",
    "\n",
    "loss = tf.reduce_mean(tf.reduce_sum(tf.square(y_data-prediction), \n",
    "                                    reduction_indices=[1]))\n",
    "#reduction_indices就是axis，axis=1是橫排，axis=0是直排\n",
    "\n",
    "train_step = tf.train.GradientDescentOptimizer(0.1).minimize(loss) #Learning rate\n",
    "\n",
    "init = tf.global_variables_initializer() #初始化！！\n",
    "sess = tf.Session()\n",
    "sess.run(init)\n",
    "\n",
    "for i in range(1000):\n",
    "    sess.run(train_step, feed_dict={xs:x_data , ys:y_data})\n",
    "    if i % 50 == 0:\n",
    "        print(sess.run(loss, feed_dict={xs:x_data , ys:y_data})) #看是否有進步\n",
    "        #注意，只要想要調用Session裡的變數，一定都要指向Session才可以"
   ]
  },
  {
   "cell_type": "markdown",
   "metadata": {},
   "source": [
    "# 輸出結果視覺化 result visualization"
   ]
  },
  {
   "cell_type": "code",
   "execution_count": 47,
   "metadata": {
    "collapsed": false
   },
   "outputs": [
    {
     "name": "stdout",
     "output_type": "stream",
     "text": [
      "0.665379\n",
      "0.0263683\n",
      "0.0106785\n",
      "0.00839952\n",
      "0.00737463\n",
      "0.0066587\n",
      "0.00617447\n",
      "0.00584755\n",
      "0.00559251\n",
      "0.00537632\n",
      "0.00517298\n",
      "0.00497487\n",
      "0.00477476\n",
      "0.00454196\n",
      "0.00429413\n",
      "0.00404534\n",
      "0.00384231\n",
      "0.00366456\n",
      "0.00351735\n",
      "0.0033926\n"
     ]
    },
    {
     "data": {
      "image/png": "[encoded data removed]",
      "text/plain": [
       "<matplotlib.figure.Figure at 0x11a842898>"
      ]
     },
     "metadata": {},
     "output_type": "display_data"
    }
   ],
   "source": [
    "import tensorflow as tf\n",
    "import numpy as np\n",
    "import matplotlib.pyplot as plt\n",
    "\n",
    "def add_layer(inputs, in_size, out_size, activation_function=None): #default沒有act表示是線性函數\n",
    "    Weights = tf.Variable(tf.random_normal([in_size, out_size])) #矩陣名稱使用大寫，norm. dist. in行 out列的矩陣\n",
    "    biases = tf.Variable(tf.zeros([1, out_size]) + 0.1) #一維度的list\n",
    "    Wx_plus_b = tf.matmul(inputs, Weights) + biases #目標\n",
    "    if activation_function is None:\n",
    "        outputs = Wx_plus_b\n",
    "    else:\n",
    "        outputs = activation_function(Wx_plus_b)\n",
    "    return outputs\n",
    "\n",
    "#創造資料\n",
    "x_data = np.linspace(-1,1,300, dtype=np.float32)[:, np.newaxis]\n",
    "noise = np.random.normal(0, 0.05, x_data.shape).astype(np.float32)\n",
    "y_data = np.square(x_data) - 0.5 + noise\n",
    "\n",
    "#Layers\n",
    "xs = tf.placeholder(tf.float32, [None, 1])\n",
    "ys = tf.placeholder(tf.float32, [None, 1])\n",
    "l1 = add_layer(xs, 1, 10, activation_function=tf.nn.relu)\n",
    "prediction = add_layer(l1, 10,1, activation_function=None)\n",
    "\n",
    "loss = tf.reduce_mean(tf.reduce_sum(tf.square(y_data-prediction), \n",
    "                                    reduction_indices=[1]))\n",
    "\n",
    "train_step = tf.train.GradientDescentOptimizer(0.1).minimize(loss) #Learning rate\n",
    "\n",
    "init = tf.global_variables_initializer() #初始化！！\n",
    "sess = tf.Session()\n",
    "sess.run(init)\n",
    "\n",
    "fig = plt.figure()\n",
    "ax = fig.add_subplot(111)\n",
    "ax.scatter(x_data,y_data)\n",
    "plt.ion() #讓程式可以連續print不會暫停\n",
    "\n",
    "for i in range(1000):\n",
    "    sess.run(train_step, feed_dict={xs:x_data, ys:y_data})\n",
    "    if i % 50 == 0:\n",
    "        try:\n",
    "            ax.lines.remove(lines[0])\n",
    "        except Exception:\n",
    "            pass\n",
    "        \n",
    "        print(sess.run(loss, feed_dict={xs:x_data, ys:y_data})) #看是否有進步\n",
    "        prediction_value = sess.run(prediction, feed_dict={xs:x_data , ys:y_data})\n",
    "        #注意，只要想要調用Session裡的變數，一定都要指向Session才可以\n",
    "        lines = ax.plot(x_data, prediction_value, 'r-', lw=5)\n",
    "        plt.pause(0.1)\n",
    "\n",
    "plt.show()"
   ]
  },
  {
   "cell_type": "markdown",
   "metadata": {},
   "source": [
    "# Optimizer 優化器具"
   ]
  },
  {
   "cell_type": "markdown",
   "metadata": {},
   "source": [
    "https://www.tensorflow.org/versions/r0.12/api_docs/python/train/"
   ]
  },
  {
   "cell_type": "raw",
   "metadata": {},
   "source": [
    "常用以下：\n",
    "class tf.train.GradientDescentOptimizer\n",
    "class tf.train.AdadeltaOptimizer\n",
    "class tf.train.MomentumOptimizer\n",
    "class tf.train.RMSPropOptimizer"
   ]
  },
  {
   "cell_type": "markdown",
   "metadata": {},
   "source": [
    "# Tensorboard：Flowchart繪製"
   ]
  },
  {
   "cell_type": "raw",
   "metadata": {},
   "source": [
    "with tf.name_scope(''):\n",
    "tf.summary.FileWriter(\"資料夾路徑\", sess.graph)"
   ]
  },
  {
   "cell_type": "code",
   "execution_count": 53,
   "metadata": {
    "collapsed": false
   },
   "outputs": [
    {
     "name": "stdout",
     "output_type": "stream",
     "text": [
      "0.282443\n",
      "0.0124871\n",
      "0.00750669\n",
      "0.00547621\n",
      "0.00457098\n",
      "0.00413355\n",
      "0.00389237\n",
      "0.00372644\n",
      "0.00360815\n",
      "0.00350453\n",
      "0.00342574\n",
      "0.00336294\n",
      "0.0033122\n",
      "0.00327485\n",
      "0.00323443\n",
      "0.00319752\n",
      "0.0031664\n",
      "0.00313411\n",
      "0.00310449\n",
      "0.00307856\n"
     ]
    },
    {
     "data": {
      "image/png": "[encoded data removed]",
      "text/plain": [
       "<matplotlib.figure.Figure at 0x119d1d0f0>"
      ]
     },
     "metadata": {},
     "output_type": "display_data"
    }
   ],
   "source": [
    "import tensorflow as tf\n",
    "import numpy as np\n",
    "import matplotlib.pyplot as plt\n",
    "\n",
    "def add_layer(inputs, in_size, out_size, activation_function=None): #default沒有act表示是線性函數\n",
    "    with tf.name_scope('layer'):\n",
    "        with tf.name_scope('Weights'):\n",
    "            Weights = tf.Variable(tf.random_normal([in_size, out_size]), name='W') \n",
    "            #矩陣名稱使用大寫，norm. dist. in行 out列的矩陣\n",
    "        with tf.name_scope('biases'):\n",
    "            biases = tf.Variable(tf.zeros([1, out_size]) + 0.1, name = 'b') #一維度的list\n",
    "        with tf.name_scope('Wx_plus_b'):\n",
    "            Wx_plus_b = tf.matmul(inputs, Weights) + biases #目標\n",
    "        \n",
    "        #以下沒寫是因為系統會默認activation finction名稱\n",
    "        if activation_function is None:\n",
    "            outputs = Wx_plus_b\n",
    "        else:\n",
    "            outputs = activation_function(Wx_plus_b)\n",
    "        return outputs\n",
    "\n",
    "#創造資料\n",
    "x_data = np.linspace(-1,1,300, dtype=np.float32)[:, np.newaxis]\n",
    "noise = np.random.normal(0, 0.05, x_data.shape).astype(np.float32)\n",
    "y_data = np.square(x_data) - 0.5 + noise\n",
    "\n",
    "with tf.name_scope('layer'):\n",
    "    xs = tf.placeholder(tf.float32, [None, 1], name = 'x_inputs')\n",
    "    ys = tf.placeholder(tf.float32, [None, 1], name = 'y_inputs')\n",
    "\n",
    "#Layers\n",
    "l1 = add_layer(xs, 1, 10, activation_function=tf.nn.relu)\n",
    "prediction = add_layer(l1, 10,1, activation_function=None)\n",
    "\n",
    "with tf.name_scope(\"loss\"):\n",
    "    loss = tf.reduce_mean(tf.reduce_sum(tf.square(y_data-prediction), \n",
    "                                    reduction_indices=[1]))\n",
    "with tf.name_scope(\"train\"):\n",
    "    train_step = tf.train.GradientDescentOptimizer(0.1).minimize(loss) #Learning rate\n",
    "\n",
    "init = tf.global_variables_initializer() #初始化！！\n",
    "sess = tf.Session()\n",
    "writer = tf.summary.FileWriter(\"Tensorflow dashboard/\", sess.graph)\n",
    "merge_op = tf.summary.merge_all()     \n",
    "\n",
    "sess.run(init)\n",
    "\n",
    "fig = plt.figure()\n",
    "ax = fig.add_subplot(111)\n",
    "ax.scatter(x_data,y_data)\n",
    "plt.ion() #讓程式可以連續print不會暫停\n",
    "\n",
    "for i in range(1000):\n",
    "    sess.run(train_step, feed_dict={xs:x_data, ys:y_data})\n",
    "    if i % 50 == 0:\n",
    "        try:\n",
    "            ax.lines.remove(lines[0])\n",
    "        except Exception:\n",
    "            pass\n",
    "        \n",
    "        print(sess.run(loss, feed_dict={xs:x_data, ys:y_data})) #看是否有進步\n",
    "        prediction_value = sess.run(prediction, feed_dict={xs:x_data , ys:y_data})\n",
    "        #注意，只要想要調用Session裡的變數，一定都要指向Session才可以\n",
    "        writer.add_summary(result, step)\n",
    "        \n",
    "        lines = ax.plot(x_data, prediction_value, 'r-', lw=5)\n",
    "        plt.pause(0.1)\n",
    "        \n",
    "        \n",
    "\n",
    "plt.show()"
   ]
  },
  {
   "cell_type": "code",
   "execution_count": 47,
   "metadata": {
    "collapsed": false
   },
   "outputs": [
    {
     "data": {
      "image/png": "[encoded data removed]",
      "text/plain": [
       "<matplotlib.figure.Figure at 0x125b006d8>"
      ]
     },
     "metadata": {},
     "output_type": "display_data"
    },
    {
     "data": {
      "image/png": "[encoded data removed]",
      "text/plain": [
       "<matplotlib.figure.Figure at 0x1204f0908>"
      ]
     },
     "metadata": {},
     "output_type": "display_data"
    }
   ],
   "source": [
    "\"\"\"\n",
    "Know more, visit my Python tutorial page: https://morvanzhou.github.io/tutorials/\n",
    "My Youtube Channel: https://www.youtube.com/user/MorvanZhou\n",
    "Dependencies:\n",
    "tensorflow: 1.1.0\n",
    "matplotlib\n",
    "numpy\n",
    "\"\"\"\n",
    "import tensorflow as tf\n",
    "import matplotlib.pyplot as plt\n",
    "import numpy as np\n",
    "\n",
    "tf.set_random_seed(1)\n",
    "np.random.seed(1)\n",
    "\n",
    "# fake data\n",
    "x = np.linspace(-1, 1, 100)[:, np.newaxis]          # shape (100, 1)\n",
    "noise = np.random.normal(0, 0.1, size=x.shape)\n",
    "y = np.power(x, 2) + noise                          # shape (100, 1) + some noise\n",
    "\n",
    "# plot data\n",
    "plt.scatter(x, y)\n",
    "plt.show()\n",
    "\n",
    "tf_x = tf.placeholder(tf.float32, x.shape)     # input x\n",
    "tf_y = tf.placeholder(tf.float32, y.shape)     # input y\n",
    "\n",
    "# neural network layers\n",
    "l1 = tf.layers.dense(tf_x, 10, tf.nn.relu)          # hidden layer\n",
    "output = tf.layers.dense(l1, 1)                     # output layer\n",
    "\n",
    "loss = tf.losses.mean_squared_error(tf_y, output)   # compute cost\n",
    "optimizer = tf.train.GradientDescentOptimizer(learning_rate=0.5)\n",
    "train_op = optimizer.minimize(loss)\n",
    "\n",
    "sess = tf.Session()                                 # control training and others\n",
    "sess.run(tf.global_variables_initializer())         # initialize var in graph\n",
    "\n",
    "plt.ion()   # something about plotting\n",
    "\n",
    "for step in range(100):\n",
    "    # train and net output\n",
    "    _, l, pred = sess.run([train_op, loss, output], {tf_x: x, tf_y: y})\n",
    "    if step % 5 == 0:\n",
    "        # plot and show learning process\n",
    "        plt.cla()\n",
    "        plt.scatter(x, y)\n",
    "        plt.plot(x, pred, 'r-', lw=5)\n",
    "        plt.text(0.5, 0, 'Loss=%.4f' % l, fontdict={'size': 20, 'color': 'red'})\n",
    "        plt.pause(0.1)\n",
    "\n",
    "plt.ioff()\n",
    "plt.show() \n",
    "#"
   ]
  },
  {
   "cell_type": "markdown",
   "metadata": {
    "collapsed": true
   },
   "source": [
    "# 2017版Regression修訂簡化版，尤其神經層建構、調用Session內變數方法"
   ]
  },
  {
   "cell_type": "markdown",
   "metadata": {},
   "source": [
    "## 創造模擬data和函式、feeding data/placeholder（可以取部分實際data）、各項起始參數(Weights, biases)、創建神經層結構（而不是去猜目標函式）、計算loss大小、優化方式（降低梯度減少loss）</br> sess激活init</br> for迴圈實作次數回傳loss減小幅度</br>"
   ]
  },
  {
   "cell_type": "markdown",
   "metadata": {},
   "source": [
    "tf_x = tf.placeholder(tf.float32, x.shape, name='x')<br/>\n",
    "l1 = tf.layers.dense(inputs, units, activation function, name='layer名字') 超簡單不用再自己造輪子囉<br/>\n",
    "loss = tf.losses.mean_squared_error(tf_y, output, scope='loss') 有超多直接定義好可以套用<br/>\n",
    "sess.run(tf.global_variables_initializer())<br/>\n",
    "_, result = sess.run([train_op, merge_op], {tf_x: x, tf_y: y})  #可以直接調用兩個變數，不然會寫很長"
   ]
  },
  {
   "cell_type": "code",
   "execution_count": 1,
   "metadata": {
    "collapsed": false
   },
   "outputs": [],
   "source": [
    "import tensorflow as tf\n",
    "import numpy as np\n",
    "\n",
    "tf.set_random_seed(1)\n",
    "np.random.seed(1)\n",
    "\n",
    "# fake data，創造數據\n",
    "x = np.linspace(-1, 1, 100)[:, np.newaxis]          # shape (100, 1)\n",
    "noise = np.random.normal(0, 0.1, size=x.shape)\n",
    "y = np.power(x, 2) + noise                          # shape (100, 1) + some noise\n",
    "\n",
    "#接受feeding data的tf_x和tf_y\n",
    "with tf.variable_scope('Inputs'):\n",
    "    tf_x = tf.placeholder(tf.float32, x.shape, name='x') \n",
    "    tf_y = tf.placeholder(tf.float32, y.shape, name='y')\n",
    "\n",
    "with tf.variable_scope('Net'):\n",
    "    l1 = tf.layers.dense(tf_x, 10, tf.nn.relu, name='hidden_layer') #依序放上：inputs, units, activation function\n",
    "    output = tf.layers.dense(l1, 1, name='output_layer')\n",
    "\n",
    "    #神經層跟output用histogram觀看\n",
    "    # add to histogram summary\n",
    "    tf.summary.histogram('h_out', l1)\n",
    "    tf.summary.histogram('pred', output)\n",
    "\n",
    "#loss要使用scalar觀看\n",
    "loss = tf.losses.mean_squared_error(tf_y, output, scope='loss')\n",
    "train_op = tf.train.GradientDescentOptimizer(learning_rate=0.5).minimize(loss)\n",
    "tf.summary.scalar('loss', loss)     # add loss to scalar summary\n",
    "\n",
    "sess = tf.Session()\n",
    "sess.run(tf.global_variables_initializer())\n",
    "\n",
    "#寫入log檔案夾內\n",
    "writer = tf.summary.FileWriter('Dropbox/programming/Python/Py_Practices/Machine Learning/log', sess.graph)     # write to file\n",
    "#合併所有的圖片\n",
    "merge_op = tf.summary.merge_all()                       # operation to merge all summary\n",
    "\n",
    "for step in range(100):\n",
    "    # train and net output\n",
    "    _, result = sess.run([train_op, merge_op], {tf_x: x, tf_y: y})  #可以直接調用兩個變數，不然會寫很長\n",
    "    writer.add_summary(result, step)\n",
    "\n",
    "# Lastly, in your terminal or CMD, type this :\n",
    "# $ tensorboard --logdir path/to/log\n",
    "# open you google chrome, type the link shown on your terminal or CMD. (something like this: http://localhost:6006)\n",
    "\n",
    "#tensorboard --logdir 'Dropbox/programming/Python/Py_Practices/Machine Learning/log'"
   ]
  },
  {
   "cell_type": "markdown",
   "metadata": {},
   "source": [
    "# Classification 分類學習，有限選項"
   ]
  },
  {
   "cell_type": "markdown",
   "metadata": {},
   "source": [
    "MNIST 手寫辨識系統"
   ]
  },
  {
   "cell_type": "code",
   "execution_count": 46,
   "metadata": {
    "collapsed": false
   },
   "outputs": [
    {
     "name": "stdout",
     "output_type": "stream",
     "text": [
      "Extracting MNIST_data/train-images-idx3-ubyte.gz\n",
      "Extracting MNIST_data/train-labels-idx1-ubyte.gz\n",
      "Extracting MNIST_data/t10k-images-idx3-ubyte.gz\n",
      "Extracting MNIST_data/t10k-labels-idx1-ubyte.gz\n",
      "0.134\n",
      "0.6538\n",
      "0.7528\n",
      "0.7913\n",
      "0.8139\n",
      "0.8241\n",
      "0.8312\n",
      "0.8389\n",
      "0.844\n",
      "0.8516\n",
      "0.8567\n",
      "0.8596\n",
      "0.8585\n",
      "0.866\n",
      "0.8681\n",
      "0.8646\n",
      "0.8676\n",
      "0.8707\n",
      "0.8753\n",
      "0.8755\n"
     ]
    }
   ],
   "source": [
    "import tensorflow as tf\n",
    "from tensorflow.examples.tutorials.mnist import input_data\n",
    "import pandas as pd\n",
    "import numpy as np\n",
    "\n",
    "#數字1-10圖片\n",
    "mnist = input_data.read_data_sets('MNIST_data', one_hot=True)\n",
    "\n",
    "#定義神經層\n",
    "def add_layer(inputs, in_size, out_size, activation_function=None): #default沒有act表示是線性函數\n",
    "    Weights = tf.Variable(tf.random_normal([in_size, out_size])) #矩陣名稱使用大寫，norm. dist. in行 out列的矩陣\n",
    "    biases = tf.Variable(tf.zeros([1, out_size]) + 0.1) #一維度的list\n",
    "    Wx_plus_b = tf.matmul(inputs, Weights) + biases #目標\n",
    "    if activation_function is None:\n",
    "        outputs = Wx_plus_b\n",
    "    else:\n",
    "        outputs = activation_function(Wx_plus_b)\n",
    "    return outputs\n",
    "\n",
    "def compute_accuracy(v_xs, v_ys):\n",
    "    global prediction\n",
    "    y_pre = sess.run(prediction, feed_dict={xs: v_xs})\n",
    "    correct_prediction = tf.equal(tf.argmax(y_pre,1), tf.argmax(v_ys,1)) #看說y_pre的最大值是不是跟v_ys一樣\n",
    "    accuracy = tf.reduce_mean(tf.cast(correct_prediction, tf.float32)) #tf.cast: Casts a tensor to a new type.\n",
    "    result = sess.run(accuracy, feed_dict={xs: v_xs, ys: v_ys})\n",
    "    return result\n",
    "\n",
    "#placeholder拿來裝feeding data，和output結果\n",
    "xs = tf.placeholder(tf.float32, [None, 784]) #一張圖有28*28=784個像素點位\n",
    "ys = tf.placeholder(tf.float32, [None, 10]) #0~9共10種數字結果\n",
    "\n",
    "#add output layer\n",
    "prediction = add_layer(xs, 784, 10, activation_function = tf.nn.softmax)\n",
    "\n",
    "#loss\n",
    "cross_entropy = tf.reduce_mean(-tf.reduce_sum(ys * tf.log(prediction), reduction_indices=[1]))\n",
    "\n",
    "#training\n",
    "train_step = tf.train.GradientDescentOptimizer(learning_rate=0.5).minimize(cross_entropy)\n",
    "\n",
    "sess = tf.Session()\n",
    "#important step!!\n",
    "sess.run(tf.global_variables_initializer())  #init\n",
    "\n",
    "for i in range(1000):\n",
    "    #SGD:stochastic gradient descent一次取一部分train data學習而已\n",
    "    batch_xs, batch_ys = mnist.train.next_batch(100)\n",
    "    sess.run(train_step, feed_dict={xs: batch_xs, ys: batch_ys})\n",
    "    if i % 50 == 0:\n",
    "        print(compute_accuracy(mnist.test.images, mnist.test.labels)) #這邊是test data做測試喔"
   ]
  },
  {
   "cell_type": "markdown",
   "metadata": {},
   "source": [
    "2017 Classifier寫法"
   ]
  },
  {
   "cell_type": "code",
   "execution_count": null,
   "metadata": {
    "collapsed": true
   },
   "outputs": [],
   "source": [
    "import tensorflow as tf\n",
    "from tensorflow.examples.tutorials.mnist import input_data\n",
    "import pandas as pd\n",
    "import numpy as np\n",
    "\n",
    "#數字1-10圖片\n",
    "mnist = input_data.read_data_sets('MNIST_data', one_hot=True)\n",
    "\n",
    "def compute_accuracy(v_xs, v_ys):\n",
    "    global prediction\n",
    "    y_pre = sess.run(prediction, feed_dict={xs: v_xs})\n",
    "    correct_prediction = tf.equal(tf.argmax(y_pre,1), tf.argmax(v_ys,1)) #看說y_pre的最大值是不是跟v_ys一樣\n",
    "    accuracy = tf.reduce_mean(tf.cast(correct_prediction, tf.float32)) #tf.cast: Casts a tensor to a new type.\n",
    "    result = sess.run(accuracy, feed_dict={xs: v_xs, ys: v_ys})\n",
    "    return result\n",
    "\n",
    "#placeholder拿來裝feeding data，和output結果\n",
    "xs = tf.placeholder(tf.float32, [None, 784]) #一張圖有28*28=784個像素點位\n",
    "ys = tf.placeholder(tf.float32, [None, 10]) #0~9共10種數字結果\n",
    "\n",
    "#add output layer\n",
    "prediction = tf.layers.dense(xs, 784, 10, activation_function = tf.nn.softmax)\n",
    "\n",
    "#loss\n",
    "cross_entropy = tf.losses\n",
    "\n",
    "#training\n",
    "train_step = tf.train.GradientDescentOptimizer(learning_rate=0.5).minimize(cross_entropy)\n",
    "\n",
    "sess = tf.Session()\n",
    "#important step!!\n",
    "sess.run(tf.global_variables_initializer())  #init\n",
    "\n",
    "for i in range(1000):\n",
    "    #SGD:stochastic gradient descent一次取一部分train data學習而已\n",
    "    batch_xs, batch_ys = mnist.train.next_batch(100)\n",
    "    sess.run(train_step, feed_dict={xs: batch_xs, ys: batch_ys})\n",
    "    if i % 50 == 0:\n",
    "        print(compute_accuracy(mnist.test.images, mnist.test.labels)) #這邊是test data做測試喔"
   ]
  },
  {
   "cell_type": "markdown",
   "metadata": {},
   "source": [
    "# 高端MNIST寫法，加入兩次CNN和Max pooling系統"
   ]
  },
  {
   "cell_type": "markdown",
   "metadata": {},
   "source": [
    "CNN是由Convolutional layer和subsampling layer所組成。 </br>\n",
    "\n",
    "（最後一層是把subsampling layer完全攤開，稱作full connected layer。模仿人類視覺由底層到高層的認知結構。"
   ]
  },
  {
   "cell_type": "code",
   "execution_count": 2,
   "metadata": {
    "collapsed": false
   },
   "outputs": [
    {
     "name": "stdout",
     "output_type": "stream",
     "text": [
      "Extracting MNIST_data/train-images-idx3-ubyte.gz\n",
      "Extracting MNIST_data/train-labels-idx1-ubyte.gz\n",
      "Extracting MNIST_data/t10k-images-idx3-ubyte.gz\n",
      "Extracting MNIST_data/t10k-labels-idx1-ubyte.gz\n",
      "step 0, training accuracy 0.1\n",
      "step 100, training accuracy 0.8\n",
      "step 200, training accuracy 0.9\n",
      "step 300, training accuracy 0.88\n",
      "step 400, training accuracy 0.88\n",
      "test accuracy 0.9485\n"
     ]
    }
   ],
   "source": [
    "#input: [60000, 784]\n",
    "#layer: W [784, 10]  b[10] \n",
    "#output: [60000, 10]\n",
    "#從input, layers甚至CNN到output都是矩陣相乘的結果，所以每一次轉換請re.shape對規格！！\n",
    "\n",
    "import tensorflow as tf\n",
    "from tensorflow.examples.tutorials.mnist import input_data\n",
    "import pandas as pd\n",
    "import numpy as np\n",
    "\n",
    "mnist = input_data.read_data_sets('MNIST_data', one_hot=True)\n",
    "sess = tf.InteractiveSession()\n",
    "\n",
    "def weight_variable(shape): #初始化时应该加入少量的噪声来打破对称性以及避免0梯度。\n",
    "    initial = tf.truncated_normal(shape, stddev=0.1)\n",
    "    return tf.Variable(initial)\n",
    "\n",
    "def bias_variable(shape): #我们使用的是ReLU神经元，初始量值放正數\n",
    "    initial = tf.constant(0.1, shape=shape)\n",
    "    return tf.Variable(initial)\n",
    "\n",
    "def conv2d(x, W): #前後一定要是1，二維跟三維代表掃秒機在x,y方向的移動跨越程度\n",
    "    #strides[0],[3]一定要是0，形式上：stride = [1, x_movement, y_movement, 1]\n",
    "    return tf.nn.conv2d(x, W, strides=[1, 1, 1, 1], padding='SAME') # Same padding圖的大小會符合，會照到圖外一些\n",
    "\n",
    "def max_pool_2x2(x): #ksize和strides[0]和[3]也是一定要是1，\n",
    "    return tf.nn.max_pool(x, ksize=[1, 2, 2, 1], strides=[1, 2, 2, 1], padding='SAME')\n",
    "\n",
    "x = tf.placeholder(\"float\", shape=[None, 784])\n",
    "y_ = tf.placeholder(\"float\", shape=[None, 10])\n",
    "\n",
    "W = tf.Variable(tf.zeros([784,10]))\n",
    "b = tf.Variable(tf.zeros([10]))\n",
    "\n",
    "#target_function\n",
    "y = tf.nn.softmax(tf.matmul(x,W) + b)\n",
    "\n",
    "\n",
    "\n",
    "#第一層卷積\n",
    "#前两个维度是第一次掃描patch的大小，接着是输入的通道数目1(黑白1、彩色3)，最后是输出的通道数目32。\n",
    "W_conv1 = weight_variable([5, 5, 1, 32]) \n",
    "b_conv1 = bias_variable([32])\n",
    "\n",
    "#为了用这一层，我们把x 变成一个4d向量，其第2、第3维对应图片的宽、高，最后一维代表图片的颜色通道数\n",
    "#通道數:因为是灰度图所以这里的通道数为1，如果是rgb彩色图，则为3\n",
    "# reshape = [n_samples, 28, 28, 1]\n",
    "x_image = tf.reshape(x, [-1,28,28,1])\n",
    "\n",
    "#我们把x_image 和权值向量进行卷积，加上偏置项，然后应用ReLU激活函数，最后进行max pooling。\n",
    "h_conv1 = tf.nn.relu(conv2d(x_image, W_conv1) + b_conv1) #output_size=28長x28寬x32高\n",
    "h_pool1 = max_pool_2x2(h_conv1) #output_size = (28/2)長x(28/2)寬x32高 = 14x14x32，除以2就是strides數目\n",
    "\n",
    "\n",
    "#第二層卷積\n",
    "#承接前面32個通道數，輸出成64個通道數\n",
    "W_conv2 = weight_variable([5, 5, 32, 64]) \n",
    "b_conv2 = bias_variable([64])\n",
    "\n",
    "h_conv2 = tf.nn.relu(conv2d(h_pool1, W_conv2) + b_conv2) #output_size = 14x14x64\n",
    "h_pool2 = max_pool_2x2(h_conv2) #output_size = 7x7x64 \n",
    "\n",
    "\n",
    "#最後一層 密集連接層: 图片尺寸减小到7x7，我们加入一个有1024个神经元的全连接层，用于处理整个图片。\n",
    "#我们把池化层输出的张量reshape成一些向量，乘上权重矩阵，加上偏置，然后对其使用ReLU。\n",
    "W_fc1 = weight_variable([7 * 7 * 64, 1024]) \n",
    "b_fc1 = bias_variable([1024])\n",
    "\n",
    "#直接壓平整個畫面，維度從[n_sample, 7, 7, 64] 變成 [n_sample, 7x7x64]\n",
    "h_pool2_flat = tf.reshape(h_pool2, [-1, 7*7*64]) \n",
    "h_fc1 = tf.nn.relu(tf.matmul(h_pool2_flat, W_fc1) + b_fc1)\n",
    "\n",
    "\n",
    "#Dropout: 可以屏蔽神经元的输出外，还会自动处理神经元输出值的scale。\n",
    "keep_prob = tf.placeholder(\"float\") #代表一个神经元的输出在dropout中保持不变的概率。\n",
    "h_fc1_drop = tf.nn.dropout(h_fc1, keep_prob)\n",
    "\n",
    "#Output: 最后，我们添加一个softmax层，就像前面的单层softmax regression一样。\n",
    "W_fc2 = weight_variable([1024, 10])\n",
    "b_fc2 = bias_variable([10])\n",
    "y_conv=tf.nn.softmax(tf.matmul(h_fc1_drop, W_fc2) + b_fc2)\n",
    "\n",
    "\n",
    "\n",
    "#loss\n",
    "cross_entropy = -tf.reduce_sum(y_*tf.log(y_conv))\n",
    "#train\n",
    "train_step = tf.train.AdamOptimizer(1e-4).minimize(cross_entropy) #使用ADAM优化器来做梯度最速下降，1e-4=0.0001\n",
    "#prediction\n",
    "correct_prediction = tf.equal(tf.argmax(y_conv,1), tf.argmax(y_,1))\n",
    "accuracy = tf.reduce_mean(tf.cast(correct_prediction, \"float\"))\n",
    "\n",
    "sess.run(tf.global_variables_initializer()) \n",
    "\n",
    "for i in range(500):\n",
    "    batch = mnist.train.next_batch(50)\n",
    "    if i%100 == 0:\n",
    "        train_accuracy = accuracy.eval(feed_dict={x:batch[0], y_: batch[1], keep_prob: 1.0})\n",
    "        print (\"step %d, training accuracy %g\" %(i, train_accuracy))\n",
    "    train_step.run(feed_dict={x: batch[0], y_: batch[1], keep_prob: 0.5})\n",
    "\n",
    "print (\"test accuracy %g\" %accuracy.eval(feed_dict={x: mnist.test.images, y_: mnist.test.labels, keep_prob: 1.0}))\n",
    "\n",
    "#最高可以強到99%以上，20000次學習"
   ]
  },
  {
   "cell_type": "markdown",
   "metadata": {
    "collapsed": true
   },
   "source": [
    "# 保存訓練好的data，也可以使用pickle"
   ]
  },
  {
   "cell_type": "code",
   "execution_count": 17,
   "metadata": {
    "collapsed": false
   },
   "outputs": [
    {
     "name": "stdout",
     "output_type": "stream",
     "text": [
      "Save to path:  my_net/save_net.ckpt\n",
      "INFO:tensorflow:Restoring parameters from my_net/save_net.ckpt\n",
      "weights: [[ 1.  2.  3.]\n",
      " [ 3.  4.  5.]]\n",
      "biases: [[ 1.  2.  3.]]\n"
     ]
    }
   ],
   "source": [
    "from __future__ import print_function\n",
    "import tensorflow as tf\n",
    "import numpy as np\n",
    "\n",
    "# Save to file\n",
    "# remember to define the same dtype and shape when restore\n",
    "\n",
    "# 記得定義dtype=tf.float32和shape\n",
    "W = tf.Variable([[1,2,3],[3,4,5]], dtype=tf.float32, name='weights')\n",
    "b = tf.Variable([[1,2,3]], dtype=tf.float32, name='biases')\n",
    "\n",
    "init = tf.global_variables_initializer()\n",
    "\n",
    "saver = tf.train.Saver()\n",
    "\n",
    "with tf.Session() as sess:\n",
    "    sess.run(init)\n",
    "    save_path = saver.save(sess, \"my_net/save_net.ckpt\")\n",
    "    print(\"Save to path: \", save_path)\n",
    "\n",
    "    \n",
    "################################################\n",
    "\n",
    "tf.reset_default_graph() #要先消除記憶...\n",
    "\n",
    "# restore variables\n",
    "# redefine the same shape and same type for your variables\n",
    "W = tf.Variable(np.arange(6).reshape((2, 3)), dtype=tf.float32, name=\"weights\")\n",
    "b = tf.Variable(np.arange(3).reshape((1, 3)), dtype=tf.float32, name=\"biases\")\n",
    "\n",
    "# not need init step\n",
    "# 不需要再init了\n",
    "\n",
    "saver = tf.train.Saver()\n",
    "\n",
    "with tf.Session() as sess:\n",
    "    saver.restore(sess, \"my_net/save_net.ckpt\") #官方網站建議ckpt=checkpoint\n",
    "    print(\"weights:\", sess.run(W))\n",
    "    print(\"biases:\", sess.run(b))"
   ]
  },
  {
   "cell_type": "code",
   "execution_count": null,
   "metadata": {
    "collapsed": true
   },
   "outputs": [],
   "source": []
  }
 ],
 "metadata": {
  "anaconda-cloud": {},
  "kernelspec": {
   "display_name": "Python [conda root]",
   "language": "python",
   "name": "conda-root-py"
  },
  "language_info": {
   "codemirror_mode": {
    "name": "ipython",
    "version": 3
   },
   "file_extension": ".py",
   "mimetype": "text/x-python",
   "name": "python",
   "nbconvert_exporter": "python",
   "pygments_lexer": "ipython3",
   "version": "3.5.2"
  }
 },
 "nbformat": 4,
 "nbformat_minor": 1
}
