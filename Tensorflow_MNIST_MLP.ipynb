{
 "cells": [
  {
   "cell_type": "markdown",
   "metadata": {},
   "source": [
    "# 資料預處理"
   ]
  },
  {
   "cell_type": "code",
   "execution_count": 1,
   "metadata": {
    "collapsed": false
   },
   "outputs": [
    {
     "name": "stdout",
     "output_type": "stream",
     "text": [
      "Successfully downloaded train-images-idx3-ubyte.gz 9912422 bytes.\n",
      "Extracting MNIST_data/train-images-idx3-ubyte.gz\n",
      "Successfully downloaded train-labels-idx1-ubyte.gz 28881 bytes.\n",
      "Extracting MNIST_data/train-labels-idx1-ubyte.gz\n",
      "Successfully downloaded t10k-images-idx3-ubyte.gz 1648877 bytes.\n",
      "Extracting MNIST_data/t10k-images-idx3-ubyte.gz\n",
      "Successfully downloaded t10k-labels-idx1-ubyte.gz 4542 bytes.\n",
      "Extracting MNIST_data/t10k-labels-idx1-ubyte.gz\n"
     ]
    }
   ],
   "source": [
    "import tensorflow as tf\n",
    "import tensorflow.examples.tutorials.mnist.input_data as input_data\n",
    "\n",
    "mnist = input_data.read_data_sets(\"MNIST_data/\", one_hot=True) #自動將結果轉換成one_hot格式"
   ]
  },
  {
   "cell_type": "code",
   "execution_count": 2,
   "metadata": {
    "collapsed": false
   },
   "outputs": [
    {
     "name": "stdout",
     "output_type": "stream",
     "text": [
      "train images     : (55000, 784) labels: (55000, 10)\n",
      "validation images: (5000, 784)  labels: (5000, 10)\n",
      "test images      : (10000, 784) labels: (10000, 10)\n"
     ]
    }
   ],
   "source": [
    "print('train images     :', mnist.train.images.shape,\n",
    "      'labels:'           , mnist.train.labels.shape)\n",
    "print('validation images:', mnist.validation.images.shape,\n",
    "      ' labels:'          , mnist.validation.labels.shape)\n",
    "print('test images      :', mnist.test.images.shape,\n",
    "      'labels:'           , mnist.test.labels.shape)"
   ]
  },
  {
   "cell_type": "markdown",
   "metadata": {},
   "source": [
    "## 建立模型"
   ]
  },
  {
   "cell_type": "code",
   "execution_count": 4,
   "metadata": {
    "collapsed": true
   },
   "outputs": [],
   "source": [
    "#1.0版本寫起來相當複雜...\n",
    "\n",
    "#原始定義，要回傳output值\n",
    "def layer(output_dim,input_dim,inputs, activation=None):\n",
    "    W = tf.Variable(tf.random_normal([input_dim, output_dim])) #使用rand.norm，input給神經元，右邊是output給下一個神經元\n",
    "    b = tf.Variable(tf.random_normal([1, output_dim])) #左邊是每個神經元的bias數字，右邊是output給下一個神經元\n",
    "    XWb = tf.matmul(inputs, W) + b\n",
    "    if activation is None:\n",
    "        outputs = XWb\n",
    "    else:\n",
    "        outputs = activation(XWb) #設立activation func.\n",
    "    return outputs\n",
    "\n",
    "#進階一點，找bug，可以回傳output, W和b\n",
    "def layer_debug(output_dim,input_dim,inputs, activation=None):\n",
    "    W = tf.Variable(tf.random_normal([input_dim, output_dim]))\n",
    "    b = tf.Variable(tf.random_normal([1, output_dim]))\n",
    "    XWb = tf.matmul(inputs, W) + b\n",
    "    if activation is None:\n",
    "        outputs = XWb\n",
    "    else:\n",
    "        outputs = activation(XWb)\n",
    "    return outputs,W,b\n",
    "\n",
    "\n",
    "#輸入層x，data已經處理過變成1維784個值的向量\n",
    "x = tf.placeholder(\"float32\", [None, 784])\n",
    "\n",
    "#隱藏層h1，800個神經元\n",
    "h1=layer(output_dim=800,input_dim=784,\n",
    "         inputs=x ,activation=tf.nn.relu)  \n",
    "\n",
    "#輸出層，輸出成10個數字辨識結果\n",
    "y_predict=layer(output_dim=10,input_dim=800,\n",
    "                    inputs=h1,activation=None)\n",
    "\n",
    "\n",
    "y_label = tf.placeholder(\"float32\", [None, 10])\n",
    "\n",
    "#定義誤差\n",
    "loss_function = tf.reduce_mean(tf.nn.softmax_cross_entropy_with_logits(logits=y_predict, labels=y_label))\n",
    "\n",
    "#定義目標（誤差降低）、學習速度\n",
    "optimizer = tf.train.AdamOptimizer(learning_rate=0.001).minimize(loss_function)\n",
    "\n",
    "#定義答對，argmax函數是指輸出使output最大的x，也就是把one_hot coding的結果轉換成數字0~9\n",
    "#答對就是1，錯誤就是0\n",
    "correct_prediction = tf.equal(tf.argmax(y_label  , 1),\n",
    "                              tf.argmax(y_predict, 1))\n",
    "\n",
    "#定義準確度，tf.cast可以把整數結果轉為float再做平均，reduce_mean就是將維度縮成一個平均值\n",
    "accuracy = tf.reduce_mean(tf.cast(correct_prediction, \"float32\"))\n"
   ]
  },
  {
   "cell_type": "markdown",
   "metadata": {},
   "source": [
    "# 訓練模型"
   ]
  },
  {
   "cell_type": "code",
   "execution_count": 5,
   "metadata": {
    "collapsed": false
   },
   "outputs": [
    {
     "name": "stdout",
     "output_type": "stream",
     "text": [
      "Train Epoch: 01 Loss= 8.352909088  Accuracy= 0.886\n",
      "Train Epoch: 02 Loss= 5.341279030  Accuracy= 0.9096\n",
      "Train Epoch: 03 Loss= 4.164056301  Accuracy= 0.925\n",
      "Train Epoch: 04 Loss= 3.373940229  Accuracy= 0.9344\n",
      "Train Epoch: 05 Loss= 2.934799910  Accuracy= 0.94\n",
      "Train Epoch: 06 Loss= 2.724165201  Accuracy= 0.9452\n",
      "Train Epoch: 07 Loss= 2.536964417  Accuracy= 0.9434\n",
      "Train Epoch: 08 Loss= 2.233466387  Accuracy= 0.9496\n",
      "Train Epoch: 09 Loss= 2.268657207  Accuracy= 0.9496\n",
      "Train Epoch: 10 Loss= 2.029934883  Accuracy= 0.9506\n",
      "Train Epoch: 11 Loss= 2.062587976  Accuracy= 0.9506\n",
      "Train Epoch: 12 Loss= 2.158470392  Accuracy= 0.95\n",
      "Train Epoch: 13 Loss= 1.874786735  Accuracy= 0.9544\n",
      "Train Epoch: 14 Loss= 1.904512167  Accuracy= 0.9564\n",
      "Train Epoch: 15 Loss= 1.913780808  Accuracy= 0.954\n",
      "Train Finished takes: 253.29927515983582\n"
     ]
    }
   ],
   "source": [
    "#設定好迷你訓練和總訓練次數\n",
    "trainEpochs = 15\n",
    "batchSize = 100\n",
    "totalBatchs = int(mnist.train.num_examples/batchSize)\n",
    "\n",
    "#統計使用\n",
    "epoch_list=[]\n",
    "loss_list=[]\n",
    "accuracy_list=[]\n",
    "\n",
    "#既時間\n",
    "from time import time\n",
    "startTime=time() #時間歸零\n",
    "sess = tf.Session()\n",
    "sess.run(tf.global_variables_initializer())\n",
    "\n",
    "for epoch in range(trainEpochs):\n",
    "    for i in range(totalBatchs):\n",
    "        batch_x, batch_y = mnist.train.next_batch(batchSize)\n",
    "        sess.run(optimizer,feed_dict={x: batch_x,y_label: batch_y})\n",
    "        \n",
    "    loss, acc = sess.run([loss_function,accuracy],\n",
    "                         feed_dict={x: mnist.validation.images, y_label: mnist.validation.labels})\n",
    "\n",
    "    epoch_list.append(epoch)\n",
    "    loss_list.append(loss)\n",
    "    accuracy_list.append(acc)    \n",
    "    \n",
    "    print(\"Train Epoch:\", '%02d' % (epoch+1), \n",
    "          \" Loss=\",\"{:.9f}\".format(loss),\n",
    "          \" Accuracy=\",acc,\n",
    "          \" Time=\", time()-startTime+'s')\n",
    "    \n",
    "duration =time()-startTime #\n",
    "print(\"Train Finished takes:\",duration)      "
   ]
  },
  {
   "cell_type": "markdown",
   "metadata": {},
   "source": [
    "# 視覺化精確度"
   ]
  },
  {
   "cell_type": "code",
   "execution_count": 7,
   "metadata": {
    "collapsed": false
   },
   "outputs": [
    {
     "data": {
      "image/png": "[encoded data removed]",
      "text/plain": [
       "<matplotlib.figure.Figure at 0x116cb3240>"
      ]
     },
     "metadata": {},
     "output_type": "display_data"
    }
   ],
   "source": [
    "import matplotlib.pyplot as plt\n",
    "\n",
    "fig = plt.gcf()\n",
    "fig.set_size_inches(4,2)\n",
    "plt.plot(epoch_list, loss_list, label = 'loss')\n",
    "plt.ylabel('loss')\n",
    "plt.xlabel('epoch')\n",
    "plt.legend(['loss'], loc='upper left')\n",
    "plt.show()"
   ]
  },
  {
   "cell_type": "code",
   "execution_count": 8,
   "metadata": {
    "collapsed": false
   },
   "outputs": [
    {
     "data": {
      "image/png": "[encoded data removed]",
      "text/plain": [
       "<matplotlib.figure.Figure at 0x1204429e8>"
      ]
     },
     "metadata": {},
     "output_type": "display_data"
    }
   ],
   "source": [
    "plt.plot(epoch_list, accuracy_list,label=\"accuracy\" )\n",
    "fig = plt.gcf()\n",
    "fig.set_size_inches(4,2)\n",
    "plt.ylim(0.8,1)\n",
    "plt.ylabel('accuracy')\n",
    "plt.xlabel('epoch')\n",
    "plt.legend()\n",
    "plt.show()"
   ]
  },
  {
   "cell_type": "code",
   "execution_count": 9,
   "metadata": {
    "collapsed": false
   },
   "outputs": [
    {
     "name": "stdout",
     "output_type": "stream",
     "text": [
      "Accuracy: 0.9529\n"
     ]
    }
   ],
   "source": [
    "print(\"Accuracy:\", sess.run(accuracy, feed_dict={x: mnist.test.images,\n",
    "                                                 y_label: mnist.test.labels}))"
   ]
  },
  {
   "cell_type": "markdown",
   "metadata": {},
   "source": [
    "# 進行預測"
   ]
  },
  {
   "cell_type": "code",
   "execution_count": 11,
   "metadata": {
    "collapsed": true
   },
   "outputs": [],
   "source": [
    "prediction_result = sess.run(tf.argmax(y_predict,1),\n",
    "                             feed_dict={x: mnist.test.images })"
   ]
  },
  {
   "cell_type": "code",
   "execution_count": 12,
   "metadata": {
    "collapsed": false
   },
   "outputs": [
    {
     "data": {
      "text/plain": [
       "array([7, 2, 1, 0, 4])"
      ]
     },
     "execution_count": 12,
     "metadata": {},
     "output_type": "execute_result"
    }
   ],
   "source": [
    "prediction_result[0:5]"
   ]
  },
  {
   "cell_type": "code",
   "execution_count": 14,
   "metadata": {
    "collapsed": false
   },
   "outputs": [
    {
     "data": {
      "image/png": "[encoded data removed]",
      "text/plain": [
       "<matplotlib.figure.Figure at 0x12049c3c8>"
      ]
     },
     "metadata": {},
     "output_type": "display_data"
    }
   ],
   "source": [
    "import matplotlib.pyplot as plt\n",
    "import numpy as np\n",
    "def plot_images_labels_prediction(images, labels, prediction, idx,num=10):\n",
    "    \n",
    "    fig = plt.gcf()\n",
    "    fig.set_size_inches(12, 14)\n",
    "    if num>25: num=25 \n",
    "    for i in range(0, num):\n",
    "        ax=plt.subplot(5,5, 1+i)\n",
    "        \n",
    "        ax.imshow(np.reshape(images[idx],(28, 28)), cmap='binary')\n",
    "            \n",
    "        title= \"label=\" +str(np.argmax(labels[idx]))\n",
    "        if len(prediction)>0:\n",
    "            title+=\",predict=\"+str(prediction[idx]) \n",
    "            \n",
    "        ax.set_title(title,fontsize=10) \n",
    "        ax.set_xticks([]);ax.set_yticks([])        \n",
    "        idx+=1 \n",
    "    plt.show()\n",
    "    \n",
    "plot_images_labels_prediction(mnist.test.images,\n",
    "                              mnist.test.labels,\n",
    "                              prediction_result,0)"
   ]
  },
  {
   "cell_type": "markdown",
   "metadata": {},
   "source": [
    "# 找出錯誤"
   ]
  },
  {
   "cell_type": "code",
   "execution_count": 15,
   "metadata": {
    "collapsed": false
   },
   "outputs": [
    {
     "name": "stdout",
     "output_type": "stream",
     "text": [
      "i=8   label= 5 predict= 8\n",
      "i=33   label= 4 predict= 0\n",
      "i=63   label= 3 predict= 2\n",
      "i=81   label= 6 predict= 1\n",
      "i=115   label= 4 predict= 9\n",
      "i=125   label= 9 predict= 1\n",
      "i=139   label= 4 predict= 8\n",
      "i=149   label= 2 predict= 3\n",
      "i=158   label= 3 predict= 2\n",
      "i=195   label= 3 predict= 1\n",
      "i=211   label= 5 predict= 8\n",
      "i=245   label= 3 predict= 5\n",
      "i=259   label= 6 predict= 0\n",
      "i=268   label= 8 predict= 9\n",
      "i=321   label= 2 predict= 7\n",
      "i=339   label= 6 predict= 5\n",
      "i=340   label= 5 predict= 3\n",
      "i=341   label= 6 predict= 2\n",
      "i=386   label= 6 predict= 5\n"
     ]
    }
   ],
   "source": [
    "for i in range(400):\n",
    "    if prediction_result[i]!=np.argmax(mnist.test.labels[i]):\n",
    "        print(\"i=\"+str(i)+\n",
    "              \"   label=\",np.argmax(mnist.test.labels[i]),\n",
    "              \"predict=\",prediction_result[i])"
   ]
  },
  {
   "cell_type": "code",
   "execution_count": null,
   "metadata": {
    "collapsed": true
   },
   "outputs": [],
   "source": []
  }
 ],
 "metadata": {
  "anaconda-cloud": {},
  "kernelspec": {
   "display_name": "Python [conda root]",
   "language": "python",
   "name": "conda-root-py"
  },
  "language_info": {
   "codemirror_mode": {
    "name": "ipython",
    "version": 3
   },
   "file_extension": ".py",
   "mimetype": "text/x-python",
   "name": "python",
   "nbconvert_exporter": "python",
   "pygments_lexer": "ipython3",
   "version": "3.5.2"
  }
 },
 "nbformat": 4,
 "nbformat_minor": 1
}
