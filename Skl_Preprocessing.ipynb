{
 "cells": [
  {
   "cell_type": "markdown",
   "metadata": {},
   "source": [
    "# Binarize: 給定界定數字，>就是1，<就是0"
   ]
  },
  {
   "cell_type": "code",
   "execution_count": 1,
   "metadata": {
    "collapsed": false
   },
   "outputs": [
    {
     "name": "stdout",
     "output_type": "stream",
     "text": [
      "before transform: [[1, 2, 3, 4, 5], [5, 4, 3, 2, 1], [3, 3, 3, 3, 3], [1, 1, 1, 1, 1]]\n",
      "after transform: [[0 0 1 1 1]\n",
      " [1 1 1 0 0]\n",
      " [1 1 1 1 1]\n",
      " [0 0 0 0 0]]\n"
     ]
    }
   ],
   "source": [
    "from sklearn.preprocessing import Binarizer\n",
    "\n",
    "def test_Binarizer():\n",
    "    \n",
    "    '''\n",
    "    测试 Binarizer 的用法\n",
    "    :return: None\n",
    "    '''\n",
    "    \n",
    "    X=[   [1,2,3,4,5],\n",
    "          [5,4,3,2,1],\n",
    "          [3,3,3,3,3,],\n",
    "          [1,1,1,1,1] ]\n",
    "    print(\"before transform:\",X)\n",
    "    \n",
    "    binarizer = Binarizer(threshold=2.5)\n",
    "    print(\"after transform:\",binarizer.transform(X))\n",
    "\n",
    "if __name__=='__main__':\n",
    "    test_Binarizer() # 调用 test_Binarizer"
   ]
  },
  {
   "cell_type": "markdown",
   "metadata": {},
   "source": [
    "# Onehot-encoding: 2D原理比較不懂..."
   ]
  },
  {
   "cell_type": "code",
   "execution_count": 11,
   "metadata": {
    "collapsed": false
   },
   "outputs": [
    {
     "name": "stdout",
     "output_type": "stream",
     "text": [
      "before transform: [[1, 2, 3, 4, 5], [5, 4, 3, 2, 1], [3, 3, 3, 3, 3], [1, 1, 1, 1, 1]]\n",
      "active_features_: [ 1  3  5  7  8  9 10 12 14 16 17 18 19 21 23 25]\n",
      "feature_indices_: [ 0  6 11 15 20 26]\n",
      "n_values_: [6 5 4 5 6]\n",
      "after transform: [[ 1.  0.  0.  0.  1.  0.  0.  0.  1.  0.  0.  0.  1.  0.  0.  1.]]\n"
     ]
    }
   ],
   "source": [
    "from sklearn.preprocessing import OneHotEncoder\n",
    "\n",
    "def test_OneHotEncoder():\n",
    "    \n",
    "    '''\n",
    "    测试 OneHotEncoder 的用法\n",
    "    :return: None\n",
    "    '''\n",
    "    \n",
    "    X=[   [1,2,3,4,5],\n",
    "          [5,4,3,2,1],\n",
    "          [3,3,3,3,3,],\n",
    "          [1,1,1,1,1] ]\n",
    "    print(\"before transform:\",X)\n",
    "    \n",
    "    encoder=OneHotEncoder(sparse=False)\n",
    "    encoder.fit(X)\n",
    "    \n",
    "    print(\"active_features_:\",encoder.active_features_)\n",
    "    print(\"feature_indices_:\",encoder.feature_indices_)\n",
    "    print(\"n_values_:\",encoder.n_values_)\n",
    "    print(\"after transform:\",encoder.transform( [[1,2,3,4,5]]))\n",
    "\n",
    "if __name__=='__main__':\n",
    "    test_OneHotEncoder() # 调用 test_OneHotEncoder"
   ]
  },
  {
   "cell_type": "markdown",
   "metadata": {},
   "source": [
    "## 1D categorical variable常用在label輸出"
   ]
  },
  {
   "cell_type": "code",
   "execution_count": 13,
   "metadata": {
    "collapsed": false
   },
   "outputs": [
    {
     "name": "stdout",
     "output_type": "stream",
     "text": [
      "before transform:\n",
      " [[0]\n",
      " [1]\n",
      " [2]\n",
      " [3]\n",
      " [4]\n",
      " [5]\n",
      " [6]\n",
      " [7]\n",
      " [8]\n",
      " [9]]\n",
      "active_features_: [0 1 2 3 4 5 6 7 8 9]\n",
      "feature_indices_: [ 0 10]\n",
      "n_values_: [10]\n",
      "after transform:\n",
      " [[ 1.  0.  0.  0.  0.  0.  0.  0.  0.  0.]\n",
      " [ 0.  1.  0.  0.  0.  0.  0.  0.  0.  0.]\n",
      " [ 0.  0.  1.  0.  0.  0.  0.  0.  0.  0.]\n",
      " [ 0.  0.  0.  1.  0.  0.  0.  0.  0.  0.]\n",
      " [ 0.  0.  0.  0.  1.  0.  0.  0.  0.  0.]\n",
      " [ 0.  0.  0.  0.  0.  1.  0.  0.  0.  0.]\n",
      " [ 0.  0.  0.  0.  0.  0.  1.  0.  0.  0.]\n",
      " [ 0.  0.  0.  0.  0.  0.  0.  1.  0.  0.]\n",
      " [ 0.  0.  0.  0.  0.  0.  0.  0.  1.  0.]\n",
      " [ 0.  0.  0.  0.  0.  0.  0.  0.  0.  1.]]\n"
     ]
    }
   ],
   "source": [
    "import numpy as np\n",
    "from sklearn.preprocessing import OneHotEncoder\n",
    "\n",
    "def test_OneHotEncoder():\n",
    "    \n",
    "    '''\n",
    "    测试 OneHotEncoder 的用法\n",
    "    :return: None\n",
    "    '''\n",
    "    \n",
    "    X= np.arange(10).reshape(-1,1) #MNIST 0~9數字辨識答案\n",
    "    print(\"before transform:\\n\",X)\n",
    "    \n",
    "    encoder=OneHotEncoder(sparse=False)\n",
    "    encoder.fit(X)\n",
    "    \n",
    "    print(\"active_features_:\",encoder.active_features_)\n",
    "    print(\"feature_indices_:\",encoder.feature_indices_)\n",
    "    print(\"n_values_:\",encoder.n_values_)\n",
    "    print(\"after transform:\\n\",encoder.transform( X ))\n",
    "\n",
    "if __name__=='__main__':\n",
    "    test_OneHotEncoder() # 调用 test_OneHotEncoder"
   ]
  },
  {
   "cell_type": "markdown",
   "metadata": {},
   "source": [
    "# Standardize: 都是根據column value做轉換"
   ]
  },
  {
   "cell_type": "markdown",
   "metadata": {},
   "source": [
    "## MinMaxScaler: column value中 x-min/(max-min)"
   ]
  },
  {
   "cell_type": "code",
   "execution_count": 23,
   "metadata": {
    "collapsed": false
   },
   "outputs": [
    {
     "name": "stdout",
     "output_type": "stream",
     "text": [
      "before transform: [[1, 5, 1, 2, 10], [2, 6, 3, 2, 7], [3, 7, 5, 6, 4], [4, 8, 7, 8, 1], [5, 9, 2, 5, 2]]\n",
      "min_ is : [-0.25       -1.25       -0.16666667 -0.33333333 -0.11111111]\n",
      "scale_ is : [ 0.25        0.25        0.16666667  0.16666667  0.11111111]\n",
      "data_max_ is : [  5.   9.   7.   8.  10.]\n",
      "data_min_ is : [ 1.  5.  1.  2.  1.]\n",
      "data_range_ is : [ 4.  4.  6.  6.  9.]\n",
      "after transform: [[ 0.          0.          0.          0.          1.        ]\n",
      " [ 0.25        0.25        0.33333333  0.          0.66666667]\n",
      " [ 0.5         0.5         0.66666667  0.66666667  0.33333333]\n",
      " [ 0.75        0.75        1.          1.          0.        ]\n",
      " [ 1.          1.          0.16666667  0.5         0.11111111]]\n"
     ]
    }
   ],
   "source": [
    "from sklearn.preprocessing import MinMaxScaler,MaxAbsScaler,StandardScaler\n",
    "\n",
    "def test_MinMaxScaler():\n",
    "    \n",
    "    '''\n",
    "    测试 MinMaxScaler 的用法\n",
    "    :return: None\n",
    "    '''\n",
    "    \n",
    "    X=[   [1,5,1,2,10],\n",
    "      [2,6,3,2,7],\n",
    "      [3,7,5,6,4],\n",
    "      [4,8,7,8,1],\n",
    "      [5,9,2,5,2]]\n",
    "    print(\"before transform:\",X)\n",
    "    \n",
    "    scaler=MinMaxScaler(feature_range=(0,1))\n",
    "    scaler.fit(X)\n",
    "    \n",
    "    print(\"min_ is :\",scaler.min_)\n",
    "    print(\"scale_ is :\",scaler.scale_)\n",
    "    print(\"data_max_ is :\",scaler.data_max_)\n",
    "    print(\"data_min_ is :\",scaler.data_min_)\n",
    "    print(\"data_range_ is :\",scaler.data_range_)\n",
    "    print(\"after transform:\",scaler.transform(X))\n",
    "\n",
    "if __name__=='__main__':\n",
    "    test_MinMaxScaler()  # 调用 test_MinMaxScaler"
   ]
  },
  {
   "cell_type": "markdown",
   "metadata": {},
   "source": [
    "## MaxAbsScaler: column value中 x/max"
   ]
  },
  {
   "cell_type": "code",
   "execution_count": 20,
   "metadata": {
    "collapsed": false
   },
   "outputs": [
    {
     "name": "stdout",
     "output_type": "stream",
     "text": [
      "before transform: [[1, 5, 1, 2, 10], [2, 6, 3, 2, 7], [3, 7, 5, 6, 4], [4, 8, 7, 8, 1]]\n",
      "scale_ is : [  4.   8.   7.   8.  10.]\n",
      "max_abs_ is : [  4.   8.   7.   8.  10.]\n",
      "after transform: [[ 0.25        0.625       0.14285714  0.25        1.        ]\n",
      " [ 0.5         0.75        0.42857143  0.25        0.7       ]\n",
      " [ 0.75        0.875       0.71428571  0.75        0.4       ]\n",
      " [ 1.          1.          1.          1.          0.1       ]]\n"
     ]
    }
   ],
   "source": [
    "from sklearn.preprocessing import MinMaxScaler,MaxAbsScaler,StandardScaler\n",
    "\n",
    "def test_MaxAbsScaler():\n",
    "    '''\n",
    "    测试 MaxAbsScaler 的用法\n",
    "    :return: None\n",
    "    '''\n",
    "    X=[   [1,5,1,2,10],\n",
    "      [2,6,3,2,7],\n",
    "      [3,7,5,6,4,],\n",
    "      [4,8,7,8,1] ]\n",
    "    print(\"before transform:\",X)\n",
    "    \n",
    "    scaler=MaxAbsScaler()\n",
    "    scaler.fit(X)\n",
    "    \n",
    "    print(\"scale_ is :\",scaler.scale_)\n",
    "    print(\"max_abs_ is :\",scaler.max_abs_)\n",
    "    print(\"after transform:\",scaler.transform(X))\n",
    "    \n",
    "if __name__=='__main__':\n",
    "    test_MaxAbsScaler()  # 调用 test_MaxAbsScaler"
   ]
  },
  {
   "cell_type": "markdown",
   "metadata": {},
   "source": [
    "## StandardScaler: column value中 x-mean()/std()"
   ]
  },
  {
   "cell_type": "code",
   "execution_count": 24,
   "metadata": {
    "collapsed": false
   },
   "outputs": [
    {
     "name": "stdout",
     "output_type": "stream",
     "text": [
      "before transform: [[1, 5, 1, 2, 10], [2, 6, 3, 2, 7], [3, 7, 5, 6, 4], [4, 8, 7, 8, 1]]\n",
      "scale_ is : [ 1.11803399  1.11803399  2.23606798  2.59807621  3.35410197]\n",
      "mean_ is : [ 2.5  6.5  4.   4.5  5.5]\n",
      "var_ is : [  1.25   1.25   5.     6.75  11.25]\n",
      "after transform: [[-1.34164079 -1.34164079 -1.34164079 -0.96225045  1.34164079]\n",
      " [-0.4472136  -0.4472136  -0.4472136  -0.96225045  0.4472136 ]\n",
      " [ 0.4472136   0.4472136   0.4472136   0.57735027 -0.4472136 ]\n",
      " [ 1.34164079  1.34164079  1.34164079  1.34715063 -1.34164079]]\n"
     ]
    }
   ],
   "source": [
    "from sklearn.preprocessing import MinMaxScaler,MaxAbsScaler,StandardScaler\n",
    "\n",
    "def test_StandardScaler():\n",
    "    '''\n",
    "    测试 StandardScaler 的用法\n",
    "    :return: None\n",
    "    '''\n",
    "    X=[   [1,5,1,2,10],\n",
    "      [2,6,3,2,7],\n",
    "      [3,7,5,6,4,],\n",
    "      [4,8,7,8,1] ]\n",
    "    print(\"before transform:\",X)\n",
    "    \n",
    "    scaler=StandardScaler()\n",
    "    scaler.fit(X)\n",
    "    \n",
    "    print(\"scale_ is :\",scaler.scale_)\n",
    "    print(\"mean_ is :\",scaler.mean_)\n",
    "    print(\"var_ is :\",scaler.var_)\n",
    "    print(\"after transform:\",scaler.transform(X))\n",
    "\n",
    "if __name__=='__main__':\n",
    "    test_StandardScaler()"
   ]
  },
  {
   "cell_type": "markdown",
   "metadata": {},
   "source": [
    "# Normalize 正則化（regularize?）"
   ]
  },
  {
   "cell_type": "code",
   "execution_count": 25,
   "metadata": {
    "collapsed": false
   },
   "outputs": [
    {
     "name": "stdout",
     "output_type": "stream",
     "text": [
      "before transform: [[1, 2, 3, 4, 5], [5, 4, 3, 2, 1], [1, 3, 5, 2, 4], [2, 4, 1, 3, 5]]\n",
      "after transform: [[ 0.13483997  0.26967994  0.40451992  0.53935989  0.67419986]\n",
      " [ 0.67419986  0.53935989  0.40451992  0.26967994  0.13483997]\n",
      " [ 0.13483997  0.40451992  0.67419986  0.26967994  0.53935989]\n",
      " [ 0.26967994  0.53935989  0.13483997  0.40451992  0.67419986]]\n"
     ]
    }
   ],
   "source": [
    "from sklearn.preprocessing import Normalizer\n",
    "def test_Normalizer():\n",
    "    '''\n",
    "    测试 Normalizer 的用法\n",
    "    :return: None\n",
    "    '''\n",
    "    X=[   [1,2,3,4,5],\n",
    "          [5,4,3,2,1],\n",
    "          [1,3,5,2,4,],\n",
    "          [2,4,1,3,5] ]\n",
    "    print(\"before transform:\",X)\n",
    "    \n",
    "    normalizer=Normalizer(norm='l2')\n",
    "    \n",
    "    print(\"after transform:\",normalizer.transform(X))\n",
    "\n",
    "if __name__=='__main__':\n",
    "    test_Normalizer() # 调用 test_Normalizer"
   ]
  },
  {
   "cell_type": "markdown",
   "metadata": {},
   "source": [
    "# feature_selection_filter"
   ]
  },
  {
   "cell_type": "markdown",
   "metadata": {},
   "source": [
    "## VarianceThreshold: column value中variance小於某個數字，代表越重要，給0"
   ]
  },
  {
   "cell_type": "code",
   "execution_count": 40,
   "metadata": {
    "collapsed": false
   },
   "outputs": [
    {
     "name": "stdout",
     "output_type": "stream",
     "text": [
      "Variances is [  0.1875  13.6875  13.6875  13.6875]\n",
      "After transform is [[ 1  2  3]\n",
      " [ 4  5  6]\n",
      " [ 7  8  9]\n",
      " [11 12 13]]\n",
      "The surport is [1 2 3]\n",
      "After reverse transform is [[ 0  1  2  3]\n",
      " [ 0  4  5  6]\n",
      " [ 0  7  8  9]\n",
      " [ 0 11 12 13]]\n"
     ]
    }
   ],
   "source": [
    "from sklearn.feature_selection import  VarianceThreshold,SelectKBest,f_classif\n",
    "\n",
    "def test_VarianceThreshold():\n",
    "    '''\n",
    "    测试 VarianceThreshold  的用法\n",
    "    :return:  None\n",
    "    '''\n",
    "    X=[[100,1,2,3],\n",
    "       [100,4,5,6],\n",
    "       [100,7,8,9],\n",
    "       [101,11,12,13]]\n",
    "    \n",
    "    selector=VarianceThreshold(threshold=1) #覆蓋掉variance的閾值\n",
    "    selector.fit(X)\n",
    "    \n",
    "    print(\"Variances is %s\"%selector.variances_)\n",
    "    print(\"After transform is %s\"%selector.transform(X))\n",
    "    print(\"The surport is %s\"%selector.get_support(True))\n",
    "    print(\"After reverse transform is %s\"%\n",
    "            selector.inverse_transform(selector.transform(X)))\n",
    "\n",
    "if __name__=='__main__':\n",
    "    test_VarianceThreshold() # 调用 test_VarianceThreshold"
   ]
  },
  {
   "cell_type": "markdown",
   "metadata": {},
   "source": [
    "## SelectKBest: 保留統計指標上得分最高的k個項目"
   ]
  },
  {
   "cell_type": "code",
   "execution_count": 27,
   "metadata": {
    "collapsed": false
   },
   "outputs": [
    {
     "name": "stdout",
     "output_type": "stream",
     "text": [
      "before transform: [[1, 2, 3, 4, 5], [5, 4, 3, 2, 1], [3, 3, 3, 3, 3], [1, 1, 1, 1, 1]]\n",
      "scores_: [ 0.2  0.   1.   8.   9. ]\n",
      "pvalues_: [ 0.69848866  1.          0.42264973  0.10557281  0.09546597]\n",
      "selected index: [2 3 4]\n",
      "after transform: [[3 4 5]\n",
      " [3 2 1]\n",
      " [3 3 3]\n",
      " [1 1 1]]\n"
     ]
    }
   ],
   "source": [
    "from sklearn.feature_selection import  VarianceThreshold,SelectKBest,f_classif\n",
    "\n",
    "def test_SelectKBest():\n",
    "    '''\n",
    "    测试 SelectKBest  的用法，其中考察的特征指标是 f_classif\n",
    "    :return:  None\n",
    "    '''\n",
    "    X=[   [1,2,3,4,5],\n",
    "          [5,4,3,2,1],\n",
    "          [3,3,3,3,3,],\n",
    "          [1,1,1,1,1] ]\n",
    "    y=[0,1,0,1]\n",
    "    print(\"before transform:\",X)\n",
    "    \n",
    "    selector=SelectKBest(score_func=f_classif,k=3) #保留統計指標上得分最高的k個項目\n",
    "    selector.fit(X,y)\n",
    "    \n",
    "    print(\"scores_:\",selector.scores_)\n",
    "    print(\"pvalues_:\",selector.pvalues_)\n",
    "    print(\"selected index:\",selector.get_support(True))\n",
    "    print(\"after transform:\",selector.transform(X))\n",
    "\n",
    "    if __name__=='__main__':\n",
    "    test_SelectKBest() # 调用 test_SelectKBest"
   ]
  },
  {
   "cell_type": "markdown",
   "metadata": {},
   "source": [
    "# feature_selection_bagging"
   ]
  },
  {
   "cell_type": "markdown",
   "metadata": {},
   "source": [
    "# RFE: 由外部選擇器選擇n個特徵（由於會踢除訊息，訓練效果可能不會更好）"
   ]
  },
  {
   "cell_type": "code",
   "execution_count": 47,
   "metadata": {
    "collapsed": false
   },
   "outputs": [
    {
     "name": "stdout",
     "output_type": "stream",
     "text": [
      "N_features 2\n",
      "Support is [False  True False  True]\n",
      "Ranking [3 1 2 1]\n",
      "Original DataSet: test score=0.973684210526\n",
      "Selected DataSet: test score=0.947368421053\n"
     ]
    }
   ],
   "source": [
    "from sklearn.feature_selection import  RFE,RFECV\n",
    "from sklearn.svm import LinearSVC\n",
    "from sklearn.datasets import  load_iris\n",
    "from  sklearn import  cross_validation\n",
    "\n",
    "def test_RFE():\n",
    "    '''\n",
    "    测试 RFE 的用法，其中目标特征数量为 2\n",
    "    :return: None\n",
    "    '''\n",
    "    iris=load_iris()\n",
    "    X=iris.data\n",
    "    y=iris.target\n",
    "    estimator=LinearSVC()\n",
    "    selector=RFE(estimator=estimator,n_features_to_select=2) #決定最後只選擇2個特徵\n",
    "    selector.fit(X,y)\n",
    "    print(\"N_features %s\"%selector.n_features_)\n",
    "    print(\"Support is %s\"%selector.support_)\n",
    "    print(\"Ranking %s\"%selector.ranking_)\n",
    "\n",
    "def test_compare_with_no_feature_selection():\n",
    "    '''\n",
    "    比较经过特征选择和未经特征选择的数据集，对 LinearSVC 的预测性能的区别\n",
    "    :return: None\n",
    "    '''\n",
    "    ### 加载数据\n",
    "    iris=load_iris()\n",
    "    X,y=iris.data,iris.target\n",
    "    ### 特征提取\n",
    "    estimator=LinearSVC()\n",
    "    selector=RFE(estimator=estimator,n_features_to_select=2)\n",
    "    X_t=selector.fit_transform(X,y)\n",
    "    #### 切分测试集与验证集\n",
    "    X_train,X_test,y_train,y_test=cross_validation.train_test_split(X, y,\n",
    "                test_size=0.25,random_state=0,stratify=y)\n",
    "    X_train_t,X_test_t,y_train_t,y_test_t=cross_validation.train_test_split(X_t, y,\n",
    "                test_size=0.25,random_state=0,stratify=y)\n",
    "    ### 测试与验证\n",
    "    clf=LinearSVC()\n",
    "    clf_t=LinearSVC()\n",
    "    clf.fit(X_train,y_train)\n",
    "    clf_t.fit(X_train_t,y_train_t)\n",
    "    print(\"Original DataSet: test score=%s\"%(clf.score(X_test,y_test)))\n",
    "    print(\"Selected DataSet: test score=%s\"%(clf_t.score(X_test_t,y_test_t)))\n",
    "\n",
    "if __name__=='__main__':\n",
    "    test_RFE() # 调用 test_RFE\n",
    "    test_compare_with_no_feature_selection() # 调用 test_compare_with_no_feature_selection"
   ]
  },
  {
   "cell_type": "markdown",
   "metadata": {},
   "source": [
    "## RFE引入cross validation，不用給定選取n個特徵，他會自己判斷"
   ]
  },
  {
   "cell_type": "code",
   "execution_count": 46,
   "metadata": {
    "collapsed": false
   },
   "outputs": [
    {
     "name": "stdout",
     "output_type": "stream",
     "text": [
      "N_features 4\n",
      "Support is [ True  True  True  True]\n",
      "Ranking [1 1 1 1]\n",
      "Grid Scores [ 0.91421569  0.94689542  0.95383987  0.96691176]\n"
     ]
    }
   ],
   "source": [
    "from sklearn.feature_selection import  RFE,RFECV\n",
    "from sklearn.svm import LinearSVC\n",
    "from sklearn.datasets import  load_iris\n",
    "from  sklearn import  cross_validation\n",
    "\n",
    "def test_RFECV():\n",
    "    '''\n",
    "    测试 RFECV 的用法\n",
    "    :return:  None\n",
    "    '''\n",
    "    iris=load_iris()\n",
    "    X=iris.data\n",
    "    y=iris.target\n",
    "    estimator=LinearSVC()\n",
    "    selector=RFECV(estimator=estimator,cv=3) #預設最少3次\n",
    "    selector.fit(X,y)\n",
    "    print(\"N_features %s\"%selector.n_features_)\n",
    "    print(\"Support is %s\"%selector.support_)\n",
    "    print(\"Ranking %s\"%selector.ranking_)\n",
    "    print(\"Grid Scores %s\"%selector.grid_scores_)\n",
    "\n",
    "if __name__=='__main__':\n",
    "    test_RFECV() # 调用 test_RFECV"
   ]
  },
  {
   "cell_type": "markdown",
   "metadata": {},
   "source": [
    "# feature_selection_embedded"
   ]
  },
  {
   "cell_type": "markdown",
   "metadata": {},
   "source": [
    "## SelectFromModel"
   ]
  },
  {
   "cell_type": "code",
   "execution_count": 42,
   "metadata": {
    "collapsed": false
   },
   "outputs": [
    {
     "name": "stdout",
     "output_type": "stream",
     "text": [
      "Threshold 0.682159260091\n",
      "Support is [ 2  3  4  5  6  9 12 13 14 16 18 19 20 21 22 24 26 27 30 33 36 38 41 42 43\n",
      " 44 45 51 53 54 55 61]\n"
     ]
    }
   ],
   "source": [
    "from sklearn.feature_selection import SelectFromModel\n",
    "from sklearn.svm import LinearSVC\n",
    "from sklearn.datasets import  load_digits,load_diabetes\n",
    "import numpy as np\n",
    "import  matplotlib.pyplot as plt\n",
    "from sklearn.linear_model import Lasso\n",
    "\n",
    "def test_SelectFromModel():\n",
    "    '''\n",
    "    测试 SelectFromModel 的用法。\n",
    "    :return: None\n",
    "    '''\n",
    "    digits=load_digits()\n",
    "    X=digits.data\n",
    "    y=digits.target\n",
    "    estimator=LinearSVC(penalty='l1',dual=False)\n",
    "    selector=SelectFromModel(estimator=estimator,threshold='mean')\n",
    "    selector.fit(X,y)\n",
    "    selector.transform(X)\n",
    "    print(\"Threshold %s\"%selector.threshold_)\n",
    "    print(\"Support is %s\"%selector.get_support(indices=True))\n",
    "\n",
    "if __name__=='__main__':\n",
    "    test_SelectFromModel() # 调用 test_SelectFromModel"
   ]
  },
  {
   "cell_type": "markdown",
   "metadata": {},
   "source": [
    "## Lasso: alpha越大，稀疏性越大"
   ]
  },
  {
   "cell_type": "code",
   "execution_count": 43,
   "metadata": {
    "collapsed": false
   },
   "outputs": [
    {
     "data": {
      "image/png": "[encoded data removed]",
      "text/plain": [
       "<matplotlib.figure.Figure at 0x10aec8710>"
      ]
     },
     "metadata": {},
     "output_type": "display_data"
    }
   ],
   "source": [
    "from sklearn.feature_selection import SelectFromModel\n",
    "from sklearn.svm import LinearSVC\n",
    "from sklearn.datasets import  load_digits,load_diabetes\n",
    "import numpy as np\n",
    "import  matplotlib.pyplot as plt\n",
    "from sklearn.linear_model import Lasso\n",
    "    \n",
    "def test_Lasso(*data):\n",
    "    '''\n",
    "    测试 alpha 与稀疏性的关系\n",
    "    :param data: 可变参数。它是一个元组，这里要求其元素依次为：训练样本集、测试样本集、训练样本的值、测试样本的值\n",
    "    :return: None\n",
    "    '''\n",
    "    X,y=data\n",
    "    alphas=np.logspace(-2,2)\n",
    "    zeros=[]\n",
    "    for alpha in alphas:\n",
    "        regr=Lasso(alpha=alpha)\n",
    "        regr.fit(X,y)\n",
    "        ### 计算零的个数 ###\n",
    "        num=0\n",
    "        for ele in regr.coef_:\n",
    "            if abs(ele) < 1e-5:num+=1\n",
    "        zeros.append(num)\n",
    "    ##### 绘图\n",
    "    fig=plt.figure()\n",
    "    ax=fig.add_subplot(1,1,1)\n",
    "    ax.plot(alphas,zeros)\n",
    "    ax.set_xlabel(r\"$\\alpha$\")\n",
    "    ax.set_xscale(\"log\")\n",
    "    ax.set_ylim(0,X.shape[1]+1)\n",
    "    ax.set_ylabel(\"zeros in coef\")\n",
    "    ax.set_title(\"Sparsity In Lasso\")\n",
    "    plt.show()\n",
    "\n",
    "if __name__=='__main__':\n",
    "    data=load_diabetes() # 生成用于回归问题的数据集\n",
    "    test_Lasso(data.data,data.target) # 调用 test_Lasso"
   ]
  },
  {
   "cell_type": "markdown",
   "metadata": {},
   "source": [
    "## LinearSVC: C越大，稀疏性大"
   ]
  },
  {
   "cell_type": "code",
   "execution_count": 45,
   "metadata": {
    "collapsed": false
   },
   "outputs": [
    {
     "data": {
      "image/png": "[encoded data removed]",
      "text/plain": [
       "<matplotlib.figure.Figure at 0x10e06ae48>"
      ]
     },
     "metadata": {},
     "output_type": "display_data"
    }
   ],
   "source": [
    "from sklearn.feature_selection import SelectFromModel\n",
    "from sklearn.svm import LinearSVC\n",
    "from sklearn.datasets import  load_digits,load_diabetes\n",
    "import numpy as np\n",
    "import  matplotlib.pyplot as plt\n",
    "from sklearn.linear_model import Lasso\n",
    "\n",
    "def test_LinearSVC(*data):\n",
    "    '''\n",
    "    测试 C  与 稀疏性的关系\n",
    "    :param data: 可变参数。它是一个元组，这里要求其元素依次为：训练样本集、测试样本集、训练样本的标记、测试样本的标记\n",
    "    :return: None\n",
    "    '''\n",
    "    X,y=data\n",
    "    Cs=np.logspace(-2,2)\n",
    "    zeros=[]\n",
    "    for C in Cs:\n",
    "        clf=LinearSVC(C=C,penalty='l1',dual=False)\n",
    "        clf.fit(X,y)\n",
    "         ### 计算零的个数 ###\n",
    "        num=0\n",
    "        for row in clf.coef_:\n",
    "            for ele in row:\n",
    "                if abs(ele) < 1e-5:num+=1\n",
    "        zeros.append(num)\n",
    "    ##### 绘图\n",
    "    fig=plt.figure()\n",
    "    ax=fig.add_subplot(1,1,1)\n",
    "    ax.plot(Cs,zeros)\n",
    "    ax.set_xlabel(\"C\")\n",
    "    ax.set_xscale(\"log\")\n",
    "    ax.set_ylabel(\"zeros in coef\")\n",
    "    ax.set_title(\"Sparsity In SVM\")\n",
    "    plt.show()\n",
    "\n",
    "if __name__=='__main__':\n",
    "    data=load_digits() # 生成用于分类问题的数据集\n",
    "    test_LinearSVC(data.data,data.target) # 调用 test_LinearSVC"
   ]
  },
  {
   "cell_type": "markdown",
   "metadata": {},
   "source": [
    "# Dictionary_learning"
   ]
  },
  {
   "cell_type": "code",
   "execution_count": 58,
   "metadata": {
    "collapsed": false
   },
   "outputs": [
    {
     "name": "stdout",
     "output_type": "stream",
     "text": [
      "before transform: [[1, 2, 3, 4, 5], [6, 7, 8, 9, 10], [10, 9, 8, 7, 6], [5, 4, 3, 2, 1]]\n",
      "components is : [[-0.33429924 -0.38756184 -0.44082444 -0.49408705 -0.54734965]\n",
      " [ 0.13483997  0.26967994  0.40451992  0.53935989  0.67419986]\n",
      " [ 0.64742841  0.53185102  0.41627363  0.30069623  0.18511884]]\n",
      "after transform: [[  0.           7.41619849   0.        ]\n",
      " [-18.16560378   0.           0.        ]\n",
      " [  0.           0.          17.806719  ]\n",
      " [  0.           0.           7.39987833]]\n"
     ]
    }
   ],
   "source": [
    "from sklearn.decomposition import DictionaryLearning\n",
    "\n",
    "def test_DictionaryLearning():\n",
    "    '''\n",
    "    测试 DictionaryLearning 的用法\n",
    "    :return: None\n",
    "    '''\n",
    "    X=[[1,2,3,4,5],\n",
    "       [6,7,8,9,10],\n",
    "       [10,9,8,7,6,],\n",
    "       [5,4,3,2,1] ]\n",
    "    print(\"before transform:\",X)\n",
    "    \n",
    "    dct=DictionaryLearning(n_components=3) #把5個feature轉換成3個feature\n",
    "    dct.fit(X)\n",
    "    \n",
    "    print(\"components is :\",dct.components_)\n",
    "    print(\"after transform:\",dct.transform(X))\n",
    "\n",
    "if __name__=='__main__':\n",
    "    test_DictionaryLearning() # 调用 test_DictionaryLearning"
   ]
  },
  {
   "cell_type": "markdown",
   "metadata": {},
   "source": [
    "# Pipeline: 把所有的feature transformation過程用pipeline串接"
   ]
  },
  {
   "cell_type": "code",
   "execution_count": 57,
   "metadata": {
    "collapsed": false
   },
   "outputs": [
    {
     "name": "stdout",
     "output_type": "stream",
     "text": [
      "Named steps: {'LogisticRegression': LogisticRegression(C=1, class_weight=None, dual=False, fit_intercept=True,\n",
      "          intercept_scaling=1, max_iter=100, multi_class='ovr', n_jobs=1,\n",
      "          penalty='l2', random_state=None, solver='liblinear', tol=0.0001,\n",
      "          verbose=0, warm_start=False), 'MinMaxScaler': MinMaxScaler(copy=True, feature_range=(0, 1))}\n",
      "Pipeline Score: 0.96\n"
     ]
    }
   ],
   "source": [
    "from sklearn.svm import LinearSVC\n",
    "from sklearn.datasets import load_digits\n",
    "from sklearn import  cross_validation\n",
    "from sklearn.linear_model import LogisticRegression\n",
    "from sklearn.pipeline import Pipeline\n",
    "\n",
    "def test_Pipeline(data):\n",
    "    '''\n",
    "    测试 Pipeline 的用法\n",
    "    :param data:  一个元组，这里要求其元素依次为：训练样本集、测试样本集、训练样本的标记、测试样本的标记\n",
    "    :return: None\n",
    "    '''\n",
    "    \n",
    "    X_train,X_test,y_train,y_test=data\n",
    "    \n",
    "    #最重要的steps: 由tuple構成，(自己定義的名稱,model)\n",
    "    steps=[('MinMaxScaler',MinMaxScaler(feature_range=(0,1))),\n",
    "           (\"LogisticRegression\",LogisticRegression(C=1))]\n",
    "    \n",
    "    pipeline=Pipeline(steps)\n",
    "    pipeline.fit(X_train,y_train)\n",
    "    \n",
    "    print(\"Named steps:\",pipeline.named_steps)\n",
    "    print(\"Pipeline Score:\",pipeline.score(X_test,y_test))\n",
    "\n",
    "if __name__=='__main__':\n",
    "    data=load_digits() # 生成用于分类问题的数据集\n",
    "    test_Pipeline(cross_validation.train_test_split(data.data, data.target,test_size=0.25\n",
    "                                                     ,random_state=0,stratify=data.target)) # 调用 test_Pipeline"
   ]
  }
 ],
 "metadata": {
  "anaconda-cloud": {},
  "kernelspec": {
   "display_name": "Python [conda root]",
   "language": "python",
   "name": "conda-root-py"
  },
  "language_info": {
   "codemirror_mode": {
    "name": "ipython",
    "version": 3
   },
   "file_extension": ".py",
   "mimetype": "text/x-python",
   "name": "python",
   "nbconvert_exporter": "python",
   "pygments_lexer": "ipython3",
   "version": "3.5.2"
  }
 },
 "nbformat": 4,
 "nbformat_minor": 1
}
